{
 "cells": [
  {
   "cell_type": "markdown",
   "id": "e771e406-a253-462d-9ea1-9e40d3199a7f",
   "metadata": {},
   "source": [
    "# Dynamic Array from Scratch\n",
    "*(kind of)*"
   ]
  },
  {
   "cell_type": "markdown",
   "id": "aceb150d-ed89-4c4e-b07b-13903cc75291",
   "metadata": {},
   "source": [
    " 📝 **Some notes:**\n",
    "- Here we are going to **make** the array. So we want to ***access*** the internal memory somehow.\n",
    "- For that stuff we will be using **ctypes** library which will just create (allocate the memory blocks - of given number) and return the object.\n",
    "- Now, don't say Oh no! It is not from scratch!! Because we are **not** going to handle the **internal** pointer stuff but instead, more exciting — \"how to handle the operations\" like how to append, delete, allocate, access, print, slice etc.\n",
    "\n",
    "So, let's go!"
   ]
  },
  {
   "cell_type": "markdown",
   "id": "e7a811c9-a0eb-490a-aa0a-08fd0be3609a",
   "metadata": {},
   "source": [
    "> Before getting into it, `ctypes` is a **core** or I would say **hardcore** library. So, don't freak out, it is meant for the core developers to develop the libraries. But as always, you can learn that too! But for the sake of usefulness, here I would like to know \"just enough\". So, just accept how it goes without worrying about the internals."
   ]
  },
  {
   "cell_type": "markdown",
   "id": "95fc87fc-5467-4708-8132-3c0e58debb31",
   "metadata": {},
   "source": [
    "- Try the slicing\n",
    "- Try the reverse indexing"
   ]
  },
  {
   "cell_type": "code",
   "execution_count": 1,
   "id": "438ff07e-4454-447b-8474-1fbe0434bbbd",
   "metadata": {},
   "outputs": [],
   "source": [
    "import ctypes"
   ]
  },
  {
   "cell_type": "code",
   "execution_count": 259,
   "id": "bfe8192c-4a0f-4da5-85bb-28cd0d1cbc1e",
   "metadata": {},
   "outputs": [],
   "source": [
    "class DynamicArray:\n",
    "    \"\"\"This implements the DynamicArray which will act like the python list\n",
    "    The functionalities available are:\n",
    "    \n",
    "    - len\n",
    "    - print\n",
    "    - indexing\n",
    "    - positive / negative indexing\n",
    "    - slicing\n",
    "    - append\n",
    "    - allocate / assignment\n",
    "    \n",
    "    Works perfectly!\n",
    "    \"\"\"\n",
    "    \n",
    "    # We will need to initialize the array with some fixed size (min 1)\n",
    "    def __init__(self, N):\n",
    "        if N <= 0:\n",
    "            raise NotImplementedError('The size of the Ary must be positive')\n",
    "        \n",
    "        # Keeps track of total elements\n",
    "        self.n = N\n",
    "        \n",
    "        # How many blocks are occupied (not necessarily all)\n",
    "        self.capacity = N\n",
    "        \n",
    "        # Creating and assigning 0 as default\n",
    "        self.ary = self.make_array(N)\n",
    "        for i in range(self.n):\n",
    "            self.ary[i] = 0\n",
    "        \n",
    "    def __len__(self):\n",
    "        return self.n\n",
    "        \n",
    "    def __getitem__(self, k):\n",
    "        # if slicing happens\n",
    "        if isinstance(k, slice):\n",
    "            start, stop, step = k.start, k.stop, k.step\n",
    "            \n",
    "            # solution for [:10] situation\n",
    "            if start is None: start = 0\n",
    "            if stop is None: stop = self.n\n",
    "            if step is None: step = 1\n",
    "            \n",
    "            # Capping and positiving the numbers\n",
    "            start, stop = self._convert_positive(start, stop)\n",
    "            start, stop = self._capper(start, stop)\n",
    "            return self.__repr__(start, stop, step)\n",
    "        \n",
    "        # if indexing happens\n",
    "        else:\n",
    "            if k in range(-self.n, self.n):\n",
    "                k = self.n + k if k < 0 else k\n",
    "                return self.__repr__(k, k+1)\n",
    "            else:\n",
    "                raise IndexError(f\"Index out of bounds for the array sized {self.n}\")\n",
    "    \n",
    "    def _convert_positive(self, start, stop):\n",
    "        if start < 0:\n",
    "            start = self.n + start\n",
    "        if stop < 0:\n",
    "            stop = self.n + stop\n",
    "        return start, stop\n",
    "    \n",
    "    def _capper(self, start, stop):\n",
    "        if start < 0:\n",
    "            start = 0\n",
    "        elif start >= self.n:\n",
    "            start = self.n - 1\n",
    "        if stop < 0:\n",
    "            stop = 0\n",
    "        elif stop > self.n:\n",
    "            stop = self.n\n",
    "        return start, stop     \n",
    "    \n",
    "    # The use of = operator\n",
    "    def __setitem__(self, k, elem):\n",
    "        self.__getitem__(k)\n",
    "        self.ary[k] = elem\n",
    "    \n",
    "    def append(self, elem):\n",
    "        if self.n + 1 > self.capacity:\n",
    "            # If the capacity is not enough then\n",
    "            # create new array with 2x capacity\n",
    "            self.ary = self._resize(2 * self.n)\n",
    "        self.ary[self.n] = elem \n",
    "        self.n += 1\n",
    "        \n",
    "    def extend(self, iterable):\n",
    "        for elem in iterable:\n",
    "            self.append(elem)\n",
    "    \n",
    "    # To be used from `append` method call\n",
    "    def _resize(self, new_size):\n",
    "        temp_ary = self.make_array(new_size)\n",
    "        \n",
    "        # copying all elements from original ary\n",
    "        # to the temp array O(n)\n",
    "        for i in range(self.n):\n",
    "            temp_ary[i] = self.ary[i]\n",
    "        self.capacity = new_size\n",
    "        return temp_ary\n",
    "        \n",
    "    # Creates the array with g9iven size\n",
    "    def make_array(self, size):\n",
    "        return (size * ctypes.py_object)()\n",
    "        \n",
    "    def __repr__(self, start=0, stop=None, step=1):\n",
    "        stop = self.n if stop is None else stop\n",
    "        str_ = \"\"\n",
    "        total_elements = -((start - stop - step) / step)\n",
    "        for th, i in enumerate(range(start, stop, step)):      \n",
    "            str_ += str(self.ary[i]) + \", \" if th != total_elements - 2 else str(self.ary[i])\n",
    "        return \"[\" + str_ + \"]\"\n",
    "    \n",
    "    # Use of `del` keyword on the specific index\n",
    "    # also used to shift the rest of the elements\n",
    "    def __delitem__(self, k):\n",
    "        self.__getitem__(k)\n",
    "        for i in range(k+1, self.n):\n",
    "            self.ary[i - 1] = self.ary[i]\n",
    "        self.n -= 1"
   ]
  },
  {
   "cell_type": "markdown",
   "id": "451dfab6-83fd-41f4-acf9-39623aaf9f5e",
   "metadata": {},
   "source": [
    "#### Trial of all stuff "
   ]
  },
  {
   "cell_type": "code",
   "execution_count": 260,
   "id": "9de93ec9-ced9-4d3b-9121-9ae6a59eb8b9",
   "metadata": {},
   "outputs": [],
   "source": [
    "# Simple creation\n",
    "ary = DynamicArray(3)"
   ]
  },
  {
   "cell_type": "code",
   "execution_count": 261,
   "id": "63a2d9a7-b851-4019-9b2d-5df83e01b236",
   "metadata": {},
   "outputs": [
    {
     "data": {
      "text/plain": [
       "[0, 0, 0]"
      ]
     },
     "execution_count": 261,
     "metadata": {},
     "output_type": "execute_result"
    }
   ],
   "source": [
    "# Use of __repr__\n",
    "ary"
   ]
  },
  {
   "cell_type": "code",
   "execution_count": 262,
   "id": "6ac64744-da90-4cc0-8bf0-edaeaa544664",
   "metadata": {},
   "outputs": [
    {
     "data": {
      "text/plain": [
       "[0, 0, 0, 123]"
      ]
     },
     "execution_count": 262,
     "metadata": {},
     "output_type": "execute_result"
    }
   ],
   "source": [
    "# Append\n",
    "ary.append(123)\n",
    "ary"
   ]
  },
  {
   "cell_type": "code",
   "execution_count": 263,
   "id": "909a44d3-7285-42b8-8504-cf1e20cd35a2",
   "metadata": {},
   "outputs": [
    {
     "data": {
      "text/plain": [
       "4"
      ]
     },
     "execution_count": 263,
     "metadata": {},
     "output_type": "execute_result"
    }
   ],
   "source": [
    "# Check the length and capacity\n",
    "len(ary)"
   ]
  },
  {
   "cell_type": "code",
   "execution_count": 264,
   "id": "368bbb12-044a-49d7-bafb-ade8e35a55bc",
   "metadata": {},
   "outputs": [
    {
     "data": {
      "text/plain": [
       "6"
      ]
     },
     "execution_count": 264,
     "metadata": {},
     "output_type": "execute_result"
    }
   ],
   "source": [
    "ary.capacity"
   ]
  },
  {
   "cell_type": "markdown",
   "id": "d57391e2-fb21-455a-9945-af37fabf9314",
   "metadata": {},
   "source": [
    "###### "
   ]
  },
  {
   "cell_type": "markdown",
   "id": "4e374a2b-b744-4823-bccd-57b00ecf535c",
   "metadata": {},
   "source": [
    "That means, we have 2 spaces left as 4 elements are already there. So without new allocation we can still store the elements. So see the two appends here."
   ]
  },
  {
   "cell_type": "code",
   "execution_count": 265,
   "id": "17137797-efdf-4017-a2a5-d9e2c6c211b2",
   "metadata": {},
   "outputs": [],
   "source": [
    "ary.append(11)\n",
    "ary.append(22)"
   ]
  },
  {
   "cell_type": "code",
   "execution_count": 266,
   "id": "08f3ec3c-4bd8-4fb5-864d-0d165ad26012",
   "metadata": {},
   "outputs": [
    {
     "data": {
      "text/plain": [
       "6"
      ]
     },
     "execution_count": 266,
     "metadata": {},
     "output_type": "execute_result"
    }
   ],
   "source": [
    "len(ary)"
   ]
  },
  {
   "cell_type": "code",
   "execution_count": 267,
   "id": "b3851ed6-49a2-490b-a41b-e9e53611c8e9",
   "metadata": {},
   "outputs": [
    {
     "data": {
      "text/plain": [
       "6"
      ]
     },
     "execution_count": 267,
     "metadata": {},
     "output_type": "execute_result"
    }
   ],
   "source": [
    "ary.capacity"
   ]
  },
  {
   "cell_type": "markdown",
   "id": "133fa21a-9ade-445b-9ef9-8347c4eb4b4c",
   "metadata": {},
   "source": [
    "###### "
   ]
  },
  {
   "cell_type": "markdown",
   "id": "bfdbadad-327d-4565-a128-ebe046a82bef",
   "metadata": {},
   "source": [
    "Now, if we try to append, it will create new space."
   ]
  },
  {
   "cell_type": "code",
   "execution_count": 268,
   "id": "f0f08abf-7eb4-413b-9d05-74fd029bfe3c",
   "metadata": {},
   "outputs": [],
   "source": [
    "ary.append(123)"
   ]
  },
  {
   "cell_type": "code",
   "execution_count": 269,
   "id": "8f9cfe08-2ffb-4cd3-b396-6543d157a6b1",
   "metadata": {},
   "outputs": [
    {
     "data": {
      "text/plain": [
       "7"
      ]
     },
     "execution_count": 269,
     "metadata": {},
     "output_type": "execute_result"
    }
   ],
   "source": [
    "len(ary)"
   ]
  },
  {
   "cell_type": "code",
   "execution_count": 270,
   "id": "9e3559a8-d821-44a3-acf9-c81558f25c51",
   "metadata": {},
   "outputs": [
    {
     "data": {
      "text/plain": [
       "12"
      ]
     },
     "execution_count": 270,
     "metadata": {},
     "output_type": "execute_result"
    }
   ],
   "source": [
    "ary.capacity"
   ]
  },
  {
   "cell_type": "markdown",
   "id": "5ad80f1c-0e76-407a-991a-ea8b1b7bbd1b",
   "metadata": {},
   "source": [
    "###### "
   ]
  },
  {
   "cell_type": "code",
   "execution_count": 271,
   "id": "c825734a-abc3-4b36-9dc0-9d6ad46dfc9c",
   "metadata": {},
   "outputs": [
    {
     "data": {
      "text/plain": [
       "[0, 0, 0, 123, 11, 22, 123, [1.2, 11, 'Shah']]"
      ]
     },
     "execution_count": 271,
     "metadata": {},
     "output_type": "execute_result"
    }
   ],
   "source": [
    "# Append other type of object\n",
    "other = [1.2, 11, \"Shah\"] #list\n",
    "\n",
    "ary.append(other)\n",
    "ary"
   ]
  },
  {
   "cell_type": "code",
   "execution_count": 272,
   "id": "0c964c01-f8e7-4fd3-b0a2-c12d5d5448c9",
   "metadata": {},
   "outputs": [
    {
     "data": {
      "text/plain": [
       "[0, 0, 0, 123, 11, 22, 123, [1.2, 11, 'Shah'], K, a, k, a]"
      ]
     },
     "execution_count": 272,
     "metadata": {},
     "output_type": "execute_result"
    }
   ],
   "source": [
    "# Also supports extend\n",
    "ary.extend(\"Kaka\")\n",
    "ary"
   ]
  },
  {
   "cell_type": "code",
   "execution_count": 273,
   "id": "ef53cd1f-c56f-4312-8370-7fa5c114acea",
   "metadata": {},
   "outputs": [
    {
     "data": {
      "text/plain": [
       "[0, 0, 0, 123, 11, 22, 123, [1.2, 11, 'Shah'], K, a, k, a, 1.2, 11, Shah]"
      ]
     },
     "execution_count": 273,
     "metadata": {},
     "output_type": "execute_result"
    }
   ],
   "source": [
    "ary.extend(other)\n",
    "ary"
   ]
  },
  {
   "cell_type": "code",
   "execution_count": 274,
   "id": "54bb2a2d-4cf3-4468-b114-3249b80f99fc",
   "metadata": {},
   "outputs": [
    {
     "data": {
      "text/plain": [
       "15"
      ]
     },
     "execution_count": 274,
     "metadata": {},
     "output_type": "execute_result"
    }
   ],
   "source": [
    "len(ary)"
   ]
  },
  {
   "cell_type": "code",
   "execution_count": 275,
   "id": "729e100e-7966-431c-a1a0-0b32f242555f",
   "metadata": {},
   "outputs": [
    {
     "data": {
      "text/plain": [
       "24"
      ]
     },
     "execution_count": 275,
     "metadata": {},
     "output_type": "execute_result"
    }
   ],
   "source": [
    "ary.capacity"
   ]
  },
  {
   "cell_type": "markdown",
   "id": "357fa6bc-ef34-4c2f-936c-013a945a2768",
   "metadata": {},
   "source": [
    "###### "
   ]
  },
  {
   "cell_type": "code",
   "execution_count": 276,
   "id": "74ae9af0-babc-4b75-87a3-2ed7a40804ff",
   "metadata": {},
   "outputs": [
    {
     "data": {
      "text/plain": [
       "'[123]'"
      ]
     },
     "execution_count": 276,
     "metadata": {},
     "output_type": "execute_result"
    }
   ],
   "source": [
    "# Indexing\n",
    "ary[3]"
   ]
  },
  {
   "cell_type": "code",
   "execution_count": 277,
   "id": "46f6a6cc-8132-44e5-af74-04cda462c107",
   "metadata": {},
   "outputs": [
    {
     "ename": "IndexError",
     "evalue": "Index out of bounds for the array sized 15",
     "output_type": "error",
     "traceback": [
      "\u001b[1;31mIndexError\u001b[0m\u001b[1;31m:\u001b[0m Index out of bounds for the array sized 15\n"
     ]
    }
   ],
   "source": [
    "ary[100]"
   ]
  },
  {
   "cell_type": "code",
   "execution_count": 278,
   "id": "12185e88-0869-47ff-870b-426127156181",
   "metadata": {},
   "outputs": [
    {
     "data": {
      "text/plain": [
       "[0, 0, 0, 123, 11, 22, 123, [1.2, 11, 'Shah'], K, a, k, a, 1.2, 11, Shah]"
      ]
     },
     "execution_count": 278,
     "metadata": {},
     "output_type": "execute_result"
    }
   ],
   "source": [
    "# Deletion\n",
    "ary"
   ]
  },
  {
   "cell_type": "code",
   "execution_count": 279,
   "id": "01d4f699-7ad4-4c1b-968b-6bcad60c12f5",
   "metadata": {},
   "outputs": [],
   "source": [
    "del ary[3]"
   ]
  },
  {
   "cell_type": "code",
   "execution_count": 280,
   "id": "59ed7454-a298-47ea-b1c1-7726611d1fd0",
   "metadata": {},
   "outputs": [
    {
     "data": {
      "text/plain": [
       "[0, 0, 0, 11, 22, 123, [1.2, 11, 'Shah'], K, a, k, a, 1.2, 11, Shah]"
      ]
     },
     "execution_count": 280,
     "metadata": {},
     "output_type": "execute_result"
    }
   ],
   "source": [
    "ary"
   ]
  },
  {
   "cell_type": "markdown",
   "id": "fcd59125-69c8-4205-84e6-a4eb61f6a66b",
   "metadata": {},
   "source": [
    "**NOTE**: Deleting the elements will shift the rest of the elements. But the capacity of the array will remain the same. That means, the `n` or length of the array in terms of element will shrink by 1, but the total allocated `capacity` will remain the same."
   ]
  },
  {
   "cell_type": "markdown",
   "id": "2fa3751e-8738-442b-b04b-680dee2ea907",
   "metadata": {},
   "source": [
    "# "
   ]
  },
  {
   "cell_type": "code",
   "execution_count": 281,
   "id": "79232143-e3c2-4845-ba2a-0ea2f6c83dd4",
   "metadata": {},
   "outputs": [
    {
     "data": {
      "text/plain": [
       "'[1.2]'"
      ]
     },
     "execution_count": 281,
     "metadata": {},
     "output_type": "execute_result"
    }
   ],
   "source": [
    "# Negative indexing\n",
    "ary[-3]"
   ]
  },
  {
   "cell_type": "code",
   "execution_count": 282,
   "id": "1e1718fd-496d-436f-b509-b879a3b8551a",
   "metadata": {},
   "outputs": [
    {
     "data": {
      "text/plain": [
       "'[0, 11, 22, 123]'"
      ]
     },
     "execution_count": 282,
     "metadata": {},
     "output_type": "execute_result"
    }
   ],
   "source": [
    "# Slicing\n",
    "ary[2:6]"
   ]
  },
  {
   "cell_type": "code",
   "execution_count": 283,
   "id": "cfe1efe0-0bcd-4c8a-ae0c-7b3b7fa7419a",
   "metadata": {},
   "outputs": [
    {
     "data": {
      "text/plain": [
       "\"[0, 22, [1.2, 11, 'Shah'], a]\""
      ]
     },
     "execution_count": 283,
     "metadata": {},
     "output_type": "execute_result"
    }
   ],
   "source": [
    "# Slicing with step size\n",
    "ary[2:10:2]"
   ]
  },
  {
   "cell_type": "code",
   "execution_count": 284,
   "id": "e48a0626-d64a-43ec-96bf-f6cc6f6116b6",
   "metadata": {},
   "outputs": [
    {
     "data": {
      "text/plain": [
       "'[0]'"
      ]
     },
     "execution_count": 284,
     "metadata": {},
     "output_type": "execute_result"
    }
   ],
   "source": [
    "# Slicing with negative step size\n",
    "ary[2:0:-2]"
   ]
  },
  {
   "cell_type": "code",
   "execution_count": 285,
   "id": "3b024bfc-da43-4f79-9ad9-3a444034cfe8",
   "metadata": {},
   "outputs": [
    {
     "data": {
      "text/plain": [
       "\"[0, 0, 0, 11, 22, 123, [1.2, 11, 'Shah'], K, a, k, a, 1.2, 11, Shah]\""
      ]
     },
     "execution_count": 285,
     "metadata": {},
     "output_type": "execute_result"
    }
   ],
   "source": [
    "# Slicing with Not available indices\n",
    "ary[0:100]"
   ]
  },
  {
   "cell_type": "code",
   "execution_count": 286,
   "id": "3e5df151-bcb8-499a-a994-15dbbfd500d4",
   "metadata": {},
   "outputs": [
    {
     "data": {
      "text/plain": [
       "'[]'"
      ]
     },
     "execution_count": 286,
     "metadata": {},
     "output_type": "execute_result"
    }
   ],
   "source": [
    "# Slicing with Not available indices\n",
    "ary[100:-150]"
   ]
  },
  {
   "cell_type": "code",
   "execution_count": 287,
   "id": "863203a9-3936-4150-8907-b57912f13a61",
   "metadata": {},
   "outputs": [
    {
     "data": {
      "text/plain": [
       "\"[Shah, 11, 1.2, a, k, a, K, [1.2, 11, 'Shah'], 123, 22, 11, 0, 0]\""
      ]
     },
     "execution_count": 287,
     "metadata": {},
     "output_type": "execute_result"
    }
   ],
   "source": [
    "# Slicing with Not available indices\n",
    "ary[100:-150:-1]"
   ]
  },
  {
   "cell_type": "markdown",
   "id": "ccf2fb4e-432d-455d-b0ec-7dabf588b081",
   "metadata": {},
   "source": [
    "# "
   ]
  },
  {
   "cell_type": "markdown",
   "id": "6a5a3651-e576-4878-b4d7-0a64654c6aff",
   "metadata": {},
   "source": [
    "# 😊 Great!\n",
    "Reallt great! **It almost works** like the literal list and indexing like that! I mean in the start, it works as if it is the C array, but after that the indexing is like python list. \n",
    "\n",
    "This was indeed an amazing one to build and for the first time!!! \n",
    "___\n",
    "Next up, we will take a look at some more interesting stuff."
   ]
  }
 ],
 "metadata": {
  "kernelspec": {
   "display_name": "Python 3 (ipykernel)",
   "language": "python",
   "name": "python3"
  },
  "language_info": {
   "codemirror_mode": {
    "name": "ipython",
    "version": 3
   },
   "file_extension": ".py",
   "mimetype": "text/x-python",
   "name": "python",
   "nbconvert_exporter": "python",
   "pygments_lexer": "ipython3",
   "version": "3.9.7"
  }
 },
 "nbformat": 4,
 "nbformat_minor": 5
}
