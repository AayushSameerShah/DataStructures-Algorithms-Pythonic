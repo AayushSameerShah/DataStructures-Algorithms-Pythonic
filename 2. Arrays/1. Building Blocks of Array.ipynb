{
 "cells": [
  {
   "cell_type": "markdown",
   "id": "e8267df1-c9ca-4904-9010-2e58146f29f8",
   "metadata": {},
   "source": [
    "# Let me be clear man"
   ]
  },
  {
   "cell_type": "markdown",
   "id": "5f50ff80-c38a-4e9b-a668-e929b0e8f222",
   "metadata": {},
   "source": [
    "We have worked we the **arrays** a lot. I mean a lot by this time.<br>\n",
    "\n",
    "1. Firstly **introduced** in the C\n",
    "2. Then worked a lot in it **producing many sorting algorithms** (remember the **duplicate deletion** algorithm you have made?)\n",
    "3. Then skipping time (java, php etc.) was introduced in **python** in the form of lists\n",
    "4. Then in the final year **project** (numpy)\n",
    "5. Then skipping... read the **book** on that!\n",
    "6. Numpy! Array! Friends!\n",
    "7. **Series**, Pandas dataframe... all arrays!\n",
    "8. And now, **here**.\n",
    "\n",
    "Mhuum.. so... arrays."
   ]
  },
  {
   "cell_type": "markdown",
   "id": "7231773d-610b-4f1f-9711-f1195b0df4b9",
   "metadata": {},
   "source": [
    "# "
   ]
  },
  {
   "cell_type": "markdown",
   "id": "92e16b66-119d-4bdf-a00a-c4fa6b3ceb9a",
   "metadata": {},
   "source": [
    "### Do not forget"
   ]
  },
  {
   "cell_type": "markdown",
   "id": "44b74c1e-6799-4b4c-8e0b-9fca0a2d474a",
   "metadata": {},
   "source": [
    "In general python `list != array` of course... I am wasting my time here. Let's get to the main point.\n",
    "\n",
    "**The Sequences Datatypes**: <br>\n",
    "- List\n",
    "- Tuple\n",
    "- String\n",
    "- Byte Array\n",
    "- Range()\n",
    "\n",
    "These ↑ are the main sequence datatypes. "
   ]
  },
  {
   "cell_type": "markdown",
   "id": "28cda066-30ef-47b8-a6cb-34be4222b6ea",
   "metadata": {},
   "source": [
    "# "
   ]
  },
  {
   "cell_type": "markdown",
   "id": "44082193-d5bd-48d5-9f8a-0c1378c01207",
   "metadata": {},
   "source": [
    "### The memory"
   ]
  },
  {
   "cell_type": "markdown",
   "id": "adc9fa0b-f803-4378-976f-0cd08268165d",
   "metadata": {},
   "source": [
    "Here, we just need to revise some already known topics. So, just taking notes from the lecture.\n",
    "\n",
    "- The basic storage type is bytes (actually bits)\n",
    "- In RAM the access of any single individuall memory block is $O(1)$\n",
    "- For python the **single character** is the UNICODE which takes 16bits / 2bytes.\n",
    "- Python (list, tuples) are the **referantial structures** as they store the \"references\" instead of the actual object."
   ]
  },
  {
   "cell_type": "markdown",
   "id": "5dcc9644-f750-4369-b15f-8efc94ce6d70",
   "metadata": {},
   "source": [
    "# "
   ]
  },
  {
   "cell_type": "markdown",
   "id": "c6ff649f-d46d-40d5-af25-d3466bad0eaf",
   "metadata": {},
   "source": [
    "### Simply saves the references."
   ]
  },
  {
   "cell_type": "markdown",
   "id": "ade9bd3b-6c99-424c-a45d-412ac80c6bda",
   "metadata": {},
   "source": [
    "<img src=\"../ref_imgs/mem_1.png\" height=300 width=500>"
   ]
  },
  {
   "cell_type": "markdown",
   "id": "e5109c0f-0e85-4d89-a909-ed615eb62c2e",
   "metadata": {},
   "source": [
    "### Just change the reference! Not data (if immutable!)"
   ]
  },
  {
   "cell_type": "markdown",
   "id": "5f721f65-e28b-4b70-81ca-9aad16964c8c",
   "metadata": {},
   "source": [
    "<img src=\"../ref_imgs/mem_2.png\" height=300 width=500>"
   ]
  },
  {
   "cell_type": "markdown",
   "id": "6177e67c-6591-4c31-b343-4ea2f2b1f57e",
   "metadata": {},
   "source": [
    "### Don't make mistake again ↓\n",
    "Whenever there is the syntax like `a = [1, 2, 44] * 3` then it means that ↓"
   ]
  },
  {
   "cell_type": "markdown",
   "id": "1394029b-86a7-4c0a-bd28-acfec8b8054f",
   "metadata": {},
   "source": [
    "<img src=\"../ref_imgs/mem_3.png\" height=300 width=500>"
   ]
  },
  {
   "cell_type": "markdown",
   "id": "41e27058-c7df-477f-98c2-80947889b138",
   "metadata": {},
   "source": [
    "Refer to the same object."
   ]
  },
  {
   "cell_type": "markdown",
   "id": "c28f6e19-0600-4dc6-b443-feaa17158d64",
   "metadata": {},
   "source": [
    "- `b = list(a)` → Shallow Copy: Will just assign the same references to the new variable\n",
    "- `b = deepcopy(a)` → Deep Copy: Recreate the internal objects and then assign to the new variable\n",
    "\n",
    "**NOTE**: The both of these ↑ are *not* applicable for the \"immutable\" types. Both will return the same result."
   ]
  },
  {
   "cell_type": "markdown",
   "id": "699b59b9-e0cd-4841-acd8-4797034a3a83",
   "metadata": {},
   "source": [
    "# "
   ]
  },
  {
   "cell_type": "markdown",
   "id": "1544f300-a970-4dd2-b3ef-daad1aea2248",
   "metadata": {},
   "source": [
    "# Dynamic Arrays"
   ]
  },
  {
   "cell_type": "markdown",
   "id": "5ca734b7-5875-40c3-b216-e0a2d1f6c47a",
   "metadata": {},
   "source": [
    "These are the arrays which are not fixed in size. They grow in memory are needed. In python we have seen that \"list\" is that kind of \"equential\" data structure which can be called \"Dynamic\" in nature.\n",
    "\n",
    "The other ones are the Dictionary, Set but they are **not** array to say (not sequential)"
   ]
  },
  {
   "cell_type": "markdown",
   "id": "d83dcff7-b107-4770-a500-bbd100b8eec7",
   "metadata": {},
   "source": [
    "___"
   ]
  },
  {
   "cell_type": "markdown",
   "id": "23616197-fb63-4136-b3e8-fb7c036b83d3",
   "metadata": {},
   "source": [
    "Iterastingly, for the first time I have seen that, \"not for each append\" the lists allocate memory. But it \"rents in advance\". Meaning ↓"
   ]
  },
  {
   "cell_type": "code",
   "execution_count": 174,
   "id": "a3fc9cb4-4d5c-4822-8b29-6772d8c4dba9",
   "metadata": {},
   "outputs": [
    {
     "name": "stdout",
     "output_type": "stream",
     "text": [
      "The len is:    0 & the size is:   40\n",
      "The len is:    1 & the size is:   72\n",
      "The len is:    2 & the size is:   72\n",
      "The len is:    3 & the size is:   72\n",
      "The len is:    4 & the size is:   72\n",
      "The len is:    5 & the size is:  104\n",
      "The len is:    6 & the size is:  104\n",
      "The len is:    7 & the size is:  104\n",
      "The len is:    8 & the size is:  104\n",
      "The len is:    9 & the size is:  168\n",
      "The len is:   10 & the size is:  168\n",
      "The len is:   11 & the size is:  168\n",
      "The len is:   12 & the size is:  168\n",
      "The len is:   13 & the size is:  168\n",
      "The len is:   14 & the size is:  168\n",
      "The len is:   15 & the size is:  168\n",
      "The len is:   16 & the size is:  168\n",
      "The len is:   17 & the size is:  232\n",
      "The len is:   18 & the size is:  232\n",
      "The len is:   19 & the size is:  232\n"
     ]
    }
   ],
   "source": [
    "n = 20\n",
    "list_ = []\n",
    "\n",
    "for i in range(n):\n",
    "    print(f\"The len is: {len(list_):4d} & the size is: {list_.__sizeof__():4d}\")\n",
    "    list_.append(i)"
   ]
  },
  {
   "cell_type": "markdown",
   "id": "f80c9255-5913-41dc-9644-82c7cd2bb493",
   "metadata": {},
   "source": [
    "See that, it started **initially** with taking `40` bytes and then when the first element was added (2nd line) it took directly 72. And kept 72 for 4 elements. Which means (72 - 40) / 4 = `8 bytes` per reference.\n",
    "\n",
    "And the same goes for `168` bytes when it reserved 8 blocks for future instead of 4. *(168 - 104) / 8 = `8 bytes`*"
   ]
  },
  {
   "cell_type": "markdown",
   "id": "2fa4eeef-adf4-43fe-a536-55907c41ffee",
   "metadata": {},
   "source": [
    "**Key takeaway**: Is that, the list grows, but not for each element. It grows for multiple **potential** elements. So even if you have 3 elements in the list in total, the space it reserves in the memory is for 5 element references."
   ]
  },
  {
   "cell_type": "markdown",
   "id": "9416ef6d-553f-4618-8ca8-fd2e69b90841",
   "metadata": {},
   "source": [
    "# "
   ]
  },
  {
   "cell_type": "markdown",
   "id": "909178fa-21ff-4fa8-98ae-04284b1d87ad",
   "metadata": {},
   "source": [
    "## For the first time... "
   ]
  },
  {
   "cell_type": "markdown",
   "id": "83b5ca8d-5bfd-43f6-929a-5b3125031b6d",
   "metadata": {},
   "source": [
    "...and also as for the trial purposes, we will be building the \"Dynamic Arrays\" or Lists in python from *kind of* scratch. Here, we will discuss the simple steps:\n",
    "\n",
    "1. Allocate the memory for the initial array and cally it `ary`\n",
    "2. Now, we want to grow the array, but **we can't actually grow** the array, so we will re initialize it.\n",
    "3. Create a new ary and call it `ary_2` with larger capacity than `ary`. *(just like more capacity the list does we saw earlier)*\n",
    "4. Then `ary_2 = ary` and then re-initialize it with `ary = ary_2`."
   ]
  },
  {
   "cell_type": "markdown",
   "id": "81c51f5a-3be1-4f0b-b83d-bd8b52913346",
   "metadata": {},
   "source": [
    "###### "
   ]
  },
  {
   "cell_type": "markdown",
   "id": "2e0e7037-a7f9-49db-bf9a-e2fe5c56d5c0",
   "metadata": {},
   "source": [
    "<img src=\"../ref_imgs/ary_grow.png\" height=300 width=500>"
   ]
  },
  {
   "cell_type": "markdown",
   "id": "b3ca8c3b-8d1f-4bed-802f-5c1ab01c3f42",
   "metadata": {},
   "source": [
    "###### "
   ]
  },
  {
   "cell_type": "markdown",
   "id": "9b1bbbe7-122f-4003-80c4-970a70baba58",
   "metadata": {},
   "source": [
    "# But,\n",
    "That is the story for the next book! See you there!"
   ]
  },
  {
   "cell_type": "markdown",
   "id": "43e33047-8daf-4757-a172-0c41fc7ed269",
   "metadata": {},
   "source": [
    "# "
   ]
  },
  {
   "cell_type": "markdown",
   "id": "901623f3-8053-4c1a-be55-3aeed89d8585",
   "metadata": {},
   "source": [
    "Haha! Here is our new buddy with whom I am typing for the first time! Have a look ↓ <br>\n",
    "*(Date: 21 Feb, 2022)*\n",
    "\n",
    "<img src=\"../ref_imgs/keybee.jpg\" width=600 height=400>"
   ]
  },
  {
   "cell_type": "code",
   "execution_count": null,
   "id": "28462823-b763-4f3c-aac2-a11194add2a2",
   "metadata": {},
   "outputs": [],
   "source": []
  }
 ],
 "metadata": {
  "kernelspec": {
   "display_name": "Python 3 (ipykernel)",
   "language": "python",
   "name": "python3"
  },
  "language_info": {
   "codemirror_mode": {
    "name": "ipython",
    "version": 3
   },
   "file_extension": ".py",
   "mimetype": "text/x-python",
   "name": "python",
   "nbconvert_exporter": "python",
   "pygments_lexer": "ipython3",
   "version": "3.9.7"
  }
 },
 "nbformat": 4,
 "nbformat_minor": 5
}
