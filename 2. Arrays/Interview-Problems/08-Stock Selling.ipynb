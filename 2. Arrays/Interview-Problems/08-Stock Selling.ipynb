{
 "cells": [
  {
   "cell_type": "markdown",
   "id": "0e74070d-8b75-4e55-acd7-dbf0346eb83b",
   "metadata": {},
   "source": [
    "# The most profitable stock price difference"
   ]
  },
  {
   "cell_type": "markdown",
   "id": "0538a9f2-939c-4b82-b9a8-b4a991d01d57",
   "metadata": {},
   "source": [
    "This is the problem that I have seen on some other medium but I found it to be aligning with the current section, so let's go."
   ]
  },
  {
   "cell_type": "markdown",
   "id": "c4b06fa0-0625-47d5-9fc7-5c7b71a495ea",
   "metadata": {},
   "source": [
    "**The problem statement**:\n",
    "\n",
    "We have an `array` of some fixed time frame including the prices of some stockes of the company. So, we need to find the best pair of buy and sell so that we can maximize the profit.\n",
    "\n",
    "There will be no negative values *(of course)* and we can't sort the array or something. You are getting it, so let's see the examples.\n",
    "\n",
    "—\n",
    "\n",
    "    [3, 6, 10, 2, 8, 0, 10]\n",
    "    \n",
    "    Here, we should buy stocks on day 4 (at price of 2) and sell \n",
    "    on the 7th day at price 10 for the maximum profit of Rs. 8\n",
    "    \n",
    "Let's code!"
   ]
  },
  {
   "cell_type": "markdown",
   "id": "22041053-3b31-462c-9475-078937faa62b",
   "metadata": {},
   "source": [
    "# "
   ]
  },
  {
   "cell_type": "code",
   "execution_count": 8,
   "id": "57da02e6-2bc2-489c-8b24-fc5e0475abed",
   "metadata": {},
   "outputs": [
    {
     "data": {
      "text/plain": [
       "(12, 33)"
      ]
     },
     "execution_count": 8,
     "metadata": {},
     "output_type": "execute_result"
    }
   ],
   "source": [
    "max((12, 33), (122, 11), key=lambda x:x[1])"
   ]
  },
  {
   "cell_type": "code",
   "execution_count": 31,
   "id": "c11674f5-a192-4f9d-afd8-77a77d2dfe44",
   "metadata": {},
   "outputs": [],
   "source": [
    "def most_profitable_price_pair(prices):\n",
    "    buy_price = prices[0]\n",
    "    sell_price = prices[1]\n",
    "    buy_date = 1\n",
    "    sell_date = 2\n",
    "    max_profit = (0, buy_date, sell_date)\n",
    "    \n",
    "    for date, price in enumerate(prices[1:]):\n",
    "        if price >= buy_price:\n",
    "            if price - buy_price > max_profit[0]:\n",
    "                sell_date = date + 2\n",
    "                max_profit = (price - buy_price, buy_date, sell_date)\n",
    "        else:\n",
    "            buy_price = price\n",
    "            buy_date = date + 2\n",
    "            \n",
    "    return max_profit"
   ]
  },
  {
   "cell_type": "code",
   "execution_count": null,
   "id": "8ffa60a8-c810-489e-bbbf-fee0663ee13b",
   "metadata": {},
   "outputs": [
    {
     "data": {
      "text/plain": [
       "(109, 2, 7)"
      ]
     },
     "execution_count": 34,
     "metadata": {},
     "output_type": "execute_result"
    }
   ],
   "source": [
    "arr = [3, 2, 6, 10, 4, 8, 111, 4, 10]\n",
    "most_profitable_price_pair(arr)"
   ]
  },
  {
   "cell_type": "markdown",
   "id": "487bd653-d0b7-4bb7-b3aa-d15c27283c6c",
   "metadata": {},
   "source": [
    "# "
   ]
  },
  {
   "cell_type": "code",
   "execution_count": 35,
   "id": "bc282f99-fab1-4717-98c5-e4eda7c8db2f",
   "metadata": {},
   "outputs": [
    {
     "name": "stdout",
     "output_type": "stream",
     "text": [
      "ALL TEST CASES PASSED\n"
     ]
    }
   ],
   "source": [
    "from nose.tools import assert_equal\n",
    "\n",
    "class TestProfit(object):\n",
    "    def test(self, sol):\n",
    "        assert_equal(sol([2, 3, 1, 10, 4, 1, 15, 4, 45]), (44, 3, 9))\n",
    "        assert_equal(sol([2, 3, 1, 10, 4, 1, 15, 4]), (14, 3, 7))\n",
    "        assert_equal(sol([4, 45]), (41, 1, 2))\n",
    "        assert_equal(sol([1, 11, 21, 1, 55, 5000]), (4999, 1, 6))\n",
    "        print('ALL TEST CASES PASSED')\n",
    "\n",
    "# Run Tests\n",
    "t = TestProfit()\n",
    "t.test(most_profitable_price_pair)"
   ]
  },
  {
   "cell_type": "markdown",
   "id": "d2ec0bee-364b-4656-9d97-2ad94403f8bf",
   "metadata": {},
   "source": [
    "# "
   ]
  },
  {
   "cell_type": "markdown",
   "id": "e79cfcbf-008e-405a-825c-81136e97a834",
   "metadata": {},
   "source": [
    "This is done, it returns the days and the maximum profit as well."
   ]
  }
 ],
 "metadata": {
  "kernelspec": {
   "display_name": "Python 3 (ipykernel)",
   "language": "python",
   "name": "python3"
  },
  "language_info": {
   "codemirror_mode": {
    "name": "ipython",
    "version": 3
   },
   "file_extension": ".py",
   "mimetype": "text/x-python",
   "name": "python",
   "nbconvert_exporter": "python",
   "pygments_lexer": "ipython3",
   "version": "3.9.7"
  }
 },
 "nbformat": 4,
 "nbformat_minor": 5
}
