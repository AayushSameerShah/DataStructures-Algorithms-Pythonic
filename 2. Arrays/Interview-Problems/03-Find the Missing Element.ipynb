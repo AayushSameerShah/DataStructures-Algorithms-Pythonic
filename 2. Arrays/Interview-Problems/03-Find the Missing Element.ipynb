{
 "cells": [
  {
   "cell_type": "markdown",
   "metadata": {},
   "source": [
    "# Find the Missing Element\n",
    "\n",
    "*(Bro, I shouldn't need to keep telling you. Don't skip this just as it looks like the placeholer. There is **your code**!!)*\n",
    "\n",
    "## Problem\n",
    "\n",
    "Consider an array of non-negative integers. A second array is formed by shuffling the elements of the first array and deleting a random element. Given these two arrays, find which element is missing in the second array. \n",
    "\n",
    "Here is an example input, the first array is shuffled and the number 5 is removed to construct the second array.\n",
    "\n",
    "Input:\n",
    "    \n",
    "    finder([1,2,3,4,5,6,7],[3,7,2,1,4,6])\n",
    "\n",
    "Output:\n",
    "\n",
    "    5 is the missing number\n",
    "\n",
    "## Solution\n",
    "\n",
    "Fill out your solution below:"
   ]
  },
  {
   "cell_type": "code",
   "execution_count": 3,
   "metadata": {
    "tags": []
   },
   "outputs": [],
   "source": [
    "def finder(arr1,arr2):\n",
    "    the_sum = sum(arr1)\n",
    "    exptd_sum = sum(arr2)\n",
    "    return the_sum - exptd_sum"
   ]
  },
  {
   "cell_type": "code",
   "execution_count": 4,
   "metadata": {},
   "outputs": [
    {
     "data": {
      "text/plain": [
       "5"
      ]
     },
     "execution_count": 4,
     "metadata": {},
     "output_type": "execute_result"
    }
   ],
   "source": [
    "arr1 = [1, 2, 3, 4, 5, 6, 7]\n",
    "arr2 = [3, 7, 2, 1, 4, 6]\n",
    "finder(arr1, arr2)"
   ]
  },
  {
   "cell_type": "code",
   "execution_count": 5,
   "metadata": {},
   "outputs": [
    {
     "data": {
      "text/plain": [
       "5"
      ]
     },
     "execution_count": 5,
     "metadata": {},
     "output_type": "execute_result"
    }
   ],
   "source": [
    "arr1 = [5, 5, 7, 7]\n",
    "arr2 = [5, 7, 7]\n",
    "\n",
    "finder(arr1,arr2)"
   ]
  },
  {
   "cell_type": "markdown",
   "metadata": {},
   "source": [
    "_____"
   ]
  },
  {
   "cell_type": "markdown",
   "metadata": {},
   "source": [
    "# Test Your Solution"
   ]
  },
  {
   "cell_type": "code",
   "execution_count": 6,
   "metadata": {},
   "outputs": [
    {
     "name": "stdout",
     "output_type": "stream",
     "text": [
      "ALL TEST CASES PASSED\n"
     ]
    }
   ],
   "source": [
    "\"\"\"\n",
    "RUN THIS CELL TO TEST YOUR SOLUTION\n",
    "\"\"\"\n",
    "from nose.tools import assert_equal\n",
    "\n",
    "class TestFinder(object):\n",
    "    \n",
    "    def test(self,sol):\n",
    "        assert_equal(sol([5,5,7,7],[5,7,7]),5)\n",
    "        assert_equal(sol([1,2,3,4,5,6,7],[3,7,2,1,4,6]),5)\n",
    "        assert_equal(sol([9,8,7,6,5,4,3,2,1],[9,8,7,5,4,3,2,1]),6)\n",
    "        print('ALL TEST CASES PASSED')\n",
    "\n",
    "# Run test\n",
    "t = TestFinder()\n",
    "t.test(finder)"
   ]
  },
  {
   "cell_type": "markdown",
   "metadata": {},
   "source": [
    "### Need to consider:\n",
    "\n",
    "See, the solution that I have come up with (the subtraction of the sum) is **clever** and might save time, but the problem will appear in the following situations:\n",
    "1. The array has negative numbers\n",
    "2. The array has **very large** numbers \n",
    "3. The array has **very fractioned** numbers\n",
    "\n",
    "In the situation 2 & 3, specially in python we might not get errors or problems because python allocates memories automatically according to the number but in other programming languages like C/C++/Java, we might get the memory overflow errors.\n",
    "<br> — <br>\n",
    "So what are other approaches that can be efficient but not the bruteforce with the complexity $O(n^2)$?\n",
    "1. Sort both arrays → compare both arrays' values → stop when unmatched\n",
    "2. Keep the counter for each elements in the dict\n",
    "3. **`Perform XOR`**!!"
   ]
  },
  {
   "cell_type": "markdown",
   "metadata": {},
   "source": [
    "# <center>👍 XOR 👌</center> "
   ]
  },
  {
   "cell_type": "markdown",
   "metadata": {},
   "source": [
    "## Going with the XOR solution "
   ]
  },
  {
   "cell_type": "code",
   "execution_count": 31,
   "metadata": {},
   "outputs": [],
   "source": [
    "def removed_element(ar1, ar2):\n",
    "    result = 0 \n",
    "    \n",
    "    for number in ar1 + ar2:\n",
    "        result ^= number\n",
    "    return result"
   ]
  },
  {
   "cell_type": "code",
   "execution_count": 33,
   "metadata": {},
   "outputs": [
    {
     "name": "stdout",
     "output_type": "stream",
     "text": [
      "ALL TEST CASES PASSED\n"
     ]
    }
   ],
   "source": [
    "t = TestFinder()\n",
    "t.test(finder)"
   ]
  },
  {
   "cell_type": "markdown",
   "metadata": {},
   "source": [
    "This solution ↑ really looks amazing... I don't know whether it will be a good choice for the big numbers as we have pointed out in the number 2 & 3, but this is **new** man!"
   ]
  },
  {
   "cell_type": "markdown",
   "metadata": {},
   "source": [
    "### What is happening in there?\n",
    "See, what is the fundamental of the XOR? <BR>\n",
    "\n",
    "- You give the same → it will throw 0\n",
    "- You give different → it will throw 1\n",
    "    \n",
    "So,\n",
    "```python\n",
    "13 ^ 13\n",
    ">>> 0\n",
    "# Which is the same ↑\n",
    "\n",
    "13 ^ 14\n",
    ">>> 3\n",
    "# Means 1.\n",
    "```\n",
    "    \n",
    "In short, it will throw `0` **only when** the numbers are matching."
   ]
  },
  {
   "cell_type": "markdown",
   "metadata": {},
   "source": [
    "So, we are technically **matching** the **new number** with the **old** number as a `result` variable. At last, if all numbers are there, in the result, then that means no number was popped out, so no problem. But is any number is popped out, then there is the problem.\n",
    "\n",
    "The `result` variable will be 0 all the time as **all the other parts of the number from the other array will make it to be so** but except one, so the left over number will be the popped out number.\n",
    "\n",
    "With that saying, I can tell that — there will **not be any** 2 & 3 problem situation in this XOR case. So it is <br>\n",
    "XOR👌👍<br>\n",
    "From me."
   ]
  },
  {
   "cell_type": "markdown",
   "metadata": {},
   "source": [
    "## Good Job!"
   ]
  }
 ],
 "metadata": {
  "kernelspec": {
   "display_name": "Python 3 (ipykernel)",
   "language": "python",
   "name": "python3"
  },
  "language_info": {
   "codemirror_mode": {
    "name": "ipython",
    "version": 3
   },
   "file_extension": ".py",
   "mimetype": "text/x-python",
   "name": "python",
   "nbconvert_exporter": "python",
   "pygments_lexer": "ipython3",
   "version": "3.9.7"
  }
 },
 "nbformat": 4,
 "nbformat_minor": 4
}
