{
 "cells": [
  {
   "cell_type": "markdown",
   "metadata": {},
   "source": [
    "# Largest Continuous Sum\n",
    "\n",
    "**THIS IS ONE OF THE CRAZIEST CHALLENGES**\n",
    "\n",
    "## Problem\n",
    "Given an array of integers (positive and negative) find the largest continuous sum. \n",
    "\n",
    "## Solution\n",
    "\n",
    "Fill out your solution below:"
   ]
  },
  {
   "cell_type": "code",
   "execution_count": 30,
   "metadata": {},
   "outputs": [],
   "source": [
    "def clean_up(arr):\n",
    "    for i in range(len(arr)):\n",
    "        if arr[i] > 0:\n",
    "            break\n",
    "    arr = arr[i:]\n",
    "    \n",
    "    for i in range(len(arr) - 1, -1, -1):\n",
    "        if arr[i] > 0:\n",
    "            break\n",
    "    arr = arr[:i+1]\n",
    "    return arr"
   ]
  },
  {
   "cell_type": "code",
   "execution_count": 31,
   "metadata": {},
   "outputs": [],
   "source": [
    "def divide_positives_negatives(arr):\n",
    "    positivs = []\n",
    "    negatives = []\n",
    "    arr = clean_up(arr)\n",
    "    pos_value_clubbed = 0\n",
    "    i = 0\n",
    "    while i < len(arr):\n",
    "        if arr[i] >= 0:\n",
    "            pos_value_clubbed += arr[i]\n",
    "            i += 1\n",
    "        else:\n",
    "            positivs.append(pos_value_clubbed)\n",
    "            pos_value_clubbed = 0\n",
    "            neg_value_clubbed = 0\n",
    "            while i < len(arr):\n",
    "                if arr[i] < 0:\n",
    "                    neg_value_clubbed += arr[i]\n",
    "                    i += 1\n",
    "                else: break\n",
    "            negatives.append(neg_value_clubbed)\n",
    "    \n",
    "    if pos_value_clubbed > 0:\n",
    "        positivs.append(pos_value_clubbed)\n",
    "    return positivs, negatives"
   ]
  },
  {
   "cell_type": "code",
   "execution_count": 63,
   "metadata": {},
   "outputs": [],
   "source": [
    "def generate_layers(pos, neg):    \n",
    "    layer = []\n",
    "    for i in range(len(pos) - 1):\n",
    "        number = pos[i] + pos[i + 1] + neg[i]\n",
    "        layer.append(number)\n",
    "        \n",
    "    layers = [pos, layer]\n",
    "    deleteable = pos[1:-1]\n",
    "    while len(layer) != 1:\n",
    "        temp_layer = []\n",
    "        for i in range(len(layer) - 1):\n",
    "            number = layer[i] + layer[i + 1] - deleteable[i]\n",
    "            temp_layer.append(number)\n",
    "        deleteable = layer[1:-1]\n",
    "        layer = temp_layer\n",
    "        layers.append(layer)\n",
    "    return layers"
   ]
  },
  {
   "cell_type": "code",
   "execution_count": 68,
   "metadata": {},
   "outputs": [],
   "source": [
    "def large_cont_sum(arr):\n",
    "    pos, neg = divide_positives_negatives(arr)\n",
    "    if len(neg) == 0 or len(pos) == 0:\n",
    "        return sum(pos)\n",
    "    \n",
    "    layers = generate_layers(pos, neg)\n",
    "    max_ = list(map(max, layers))\n",
    "    return max(max_)"
   ]
  },
  {
   "cell_type": "code",
   "execution_count": 69,
   "metadata": {},
   "outputs": [
    {
     "data": {
      "text/plain": [
       "100"
      ]
     },
     "execution_count": 69,
     "metadata": {},
     "output_type": "execute_result"
    }
   ],
   "source": [
    "large_cont_sum([5, -20, 40, 60, -100])"
   ]
  },
  {
   "cell_type": "code",
   "execution_count": 70,
   "metadata": {},
   "outputs": [
    {
     "data": {
      "text/plain": [
       "290"
      ]
     },
     "execution_count": 70,
     "metadata": {},
     "output_type": "execute_result"
    }
   ],
   "source": [
    "large_cont_sum([5, -20, 40, 60, -150, 80, 70, -10, -90, 200, 10, -20, 50])"
   ]
  },
  {
   "cell_type": "code",
   "execution_count": 71,
   "metadata": {},
   "outputs": [
    {
     "data": {
      "text/plain": [
       "29"
      ]
     },
     "execution_count": 71,
     "metadata": {},
     "output_type": "execute_result"
    }
   ],
   "source": [
    "large_cont_sum([1,2,-1,3,4,10,10,-10,-1])"
   ]
  },
  {
   "cell_type": "markdown",
   "metadata": {},
   "source": [
    "____\n",
    "Many times in an interview setting the question also requires you to report back the start and end points of the sum. Keep this in mind and see if you can solve that problem, we'll see it in the mock interview section of the course!"
   ]
  },
  {
   "cell_type": "markdown",
   "metadata": {},
   "source": [
    "# Test Your Solution"
   ]
  },
  {
   "cell_type": "code",
   "execution_count": 211,
   "metadata": {},
   "outputs": [
    {
     "name": "stdout",
     "output_type": "stream",
     "text": [
      "ALL TEST CASES PASSED\n"
     ]
    }
   ],
   "source": [
    "from nose.tools import assert_equal\n",
    "\n",
    "class LargeContTest(object):\n",
    "    def test(self,sol):\n",
    "        assert_equal(sol([1,2,-1,3,4,-1]),9)\n",
    "        assert_equal(sol([1,2,-1,3,4,10,10,-10,-1]),29)\n",
    "        assert_equal(sol([-1,1]),1)\n",
    "        print('ALL TEST CASES PASSED')\n",
    "        \n",
    "#Run Test\n",
    "t = LargeContTest()\n",
    "t.test(large_cont_sum)"
   ]
  },
  {
   "cell_type": "markdown",
   "metadata": {},
   "source": [
    "### Learnt something?\n",
    "**I FREAKING GO SO WAY LONG!!**\n",
    "\n",
    "I don't know why. Really the road that I take is long... just look at the solution! It is not even scalable! FUCK! <br>\n",
    "Okay, Okay...\n",
    "\n",
    "So, what is the real solution?"
   ]
  },
  {
   "cell_type": "markdown",
   "metadata": {},
   "source": [
    "```python\n",
    "def large_cont_sum(arr): \n",
    "    \n",
    "    # Check to see if array is length 0\n",
    "    if len(arr)==0: \n",
    "        return 0\n",
    "    \n",
    "    # Start the max and current sum at the first element\n",
    "    max_sum=current_sum=arr[0] \n",
    "    \n",
    "    # For every element in array\n",
    "    for num in arr[1:]: \n",
    "        \n",
    "        # Set current sum as the higher of the two\n",
    "        current_sum=max(current_sum+num, num)\n",
    "        \n",
    "        # Set max as the higher between the currentSum and the current max\n",
    "        max_sum=max(current_sum, max_sum) \n",
    "        \n",
    "    return max_sum\n",
    "```\n",
    "This is it. And it will become a lot smaller if you remove the comments. Hah!"
   ]
  },
  {
   "cell_type": "markdown",
   "metadata": {},
   "source": [
    "### What to learn from this blunder?\n",
    "- There is (has to be) a linear solution on every problem\n",
    "- Don't think too much and other cases which make you to drive the complex solutions like this one\n",
    "- **I remember** that I got the idea of checking from the start but then I stuck with the idea that what happens if the solution lies in the between, and again I got the idea of ignoring the previous if it doesn't add any value but then I deviated my focus. Otherwise I would have done it way before (might have... huhh humm..)\n",
    "- The provided answer is clever. I admit.\n",
    "\n",
    "### What happens in the \"clever\" answer?\n",
    "- I thought there will be a recurssion and all, so I got afraid... but the answer is so simple\n",
    "- It checks:\n",
    "> Whether the upcoming element added to the prvious sum makes the sum larger or smaller and if larger then keeps the new one.\n",
    "\n",
    "And that automatically converts the solution. Think and it will be fine for you to understand. It is that easy."
   ]
  },
  {
   "cell_type": "markdown",
   "metadata": {},
   "source": [
    "___"
   ]
  },
  {
   "cell_type": "markdown",
   "metadata": {},
   "source": [
    "The code given below demonstrates **how to also return the indices** of the elements ↓"
   ]
  },
  {
   "cell_type": "code",
   "execution_count": 95,
   "metadata": {},
   "outputs": [],
   "source": [
    "# Entire code is written by me - without looking at the previous solution - to check\n",
    "# my understanding.\n",
    "\n",
    "def large_cont_sum(arr):\n",
    "    if len(arr) == 1:\n",
    "        return arr[0]\n",
    "    \n",
    "    curr_sum = max_sum = 0\n",
    "    start_ind = end_ind = 0\n",
    "    for idx, num in enumerate(arr):\n",
    "        curr_sum, start_ind = max((curr_sum + num, start_ind), (num, idx))\n",
    "        max_sum, end_ind = max((curr_sum, idx), (max_sum, end_ind))\n",
    "    \n",
    "    return max_sum, start_ind, end_ind"
   ]
  },
  {
   "cell_type": "code",
   "execution_count": 96,
   "metadata": {},
   "outputs": [
    {
     "data": {
      "text/plain": [
       "(100, 2, 3)"
      ]
     },
     "execution_count": 96,
     "metadata": {},
     "output_type": "execute_result"
    }
   ],
   "source": [
    "large_cont_sum([5, -20, 40, 60, -100])"
   ]
  },
  {
   "cell_type": "code",
   "execution_count": 97,
   "metadata": {},
   "outputs": [
    {
     "data": {
      "text/plain": [
       "(290, 5, 12)"
      ]
     },
     "execution_count": 97,
     "metadata": {},
     "output_type": "execute_result"
    }
   ],
   "source": [
    "large_cont_sum([5, -20, 40, 60, -150, 80, 70, -10, -90, 200, 10, -20, 50])"
   ]
  },
  {
   "cell_type": "code",
   "execution_count": 99,
   "metadata": {},
   "outputs": [
    {
     "data": {
      "text/plain": [
       "(29, 0, 6)"
      ]
     },
     "execution_count": 99,
     "metadata": {},
     "output_type": "execute_result"
    }
   ],
   "source": [
    "large_cont_sum([1,2,-1,3,4,10,10,-10,-1])"
   ]
  },
  {
   "cell_type": "markdown",
   "metadata": {},
   "source": [
    "Done... I mean really. I was able to return the indices as well."
   ]
  },
  {
   "cell_type": "markdown",
   "metadata": {},
   "source": [
    "## Good Job!"
   ]
  },
  {
   "cell_type": "markdown",
   "metadata": {},
   "source": [
    "# "
   ]
  }
 ],
 "metadata": {
  "kernelspec": {
   "display_name": "Python 3 (ipykernel)",
   "language": "python",
   "name": "python3"
  },
  "language_info": {
   "codemirror_mode": {
    "name": "ipython",
    "version": 3
   },
   "file_extension": ".py",
   "mimetype": "text/x-python",
   "name": "python",
   "nbconvert_exporter": "python",
   "pygments_lexer": "ipython3",
   "version": "3.9.7"
  }
 },
 "nbformat": 4,
 "nbformat_minor": 4
}
