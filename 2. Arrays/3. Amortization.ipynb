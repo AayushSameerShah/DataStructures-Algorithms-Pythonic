{
 "cells": [
  {
   "cell_type": "markdown",
   "id": "c6da4c50-e488-4813-8b0a-301d7b667681",
   "metadata": {},
   "source": [
    "# Amortization "
   ]
  },
  {
   "cell_type": "markdown",
   "id": "871f26d2-dfa1-458a-98c6-7f801181d474",
   "metadata": {},
   "source": [
    "This is the theory topic, so I thought need to stay away as it is **not practically** use for the **practical** purposes rather than a **proof** of why \"doubling the array is better\". But, it is an interesting topic!!\n",
    "\n",
    "Let's get into it."
   ]
  },
  {
   "cell_type": "markdown",
   "id": "b17c4104-3a81-417f-a61a-e85404d52a20",
   "metadata": {},
   "source": [
    "# "
   ]
  },
  {
   "cell_type": "markdown",
   "id": "a1168b48-87ef-4459-add6-24dec4ca70b0",
   "metadata": {},
   "source": [
    "**N**ow the thing is that... why do we double it? Is it even good? Now, please don't ask that we can make it 3X in size and then it will become better than doubling... but the thing is that why don't we just **increment by 1** and then use it? Will not it be more sufficient?"
   ]
  },
  {
   "cell_type": "markdown",
   "id": "25668b6c-9ae3-4218-aca1-8ea068d81d35",
   "metadata": {},
   "source": [
    "That, is answered in the paper. But for the simple terms:\n",
    "\n",
    "1. **If we take the path of incrementing by 1**\n",
    "\n",
    "Then one the new insertion then everytime we would have to copy the existing elements in the new arrawy and then only we will be able to add one to it. That will be like...\n",
    "\n",
    "```\n",
    "1. First element = one pus\n",
    "2. Second element = 1 previous + 1 current = 2 pushes\n",
    "3. Third element = 2 previous + 1 current = 3 pushes\n",
    "...\n",
    "n. element = n - 1 previous + 1 current = n pushes\n",
    "```\n",
    "So total pushes for the `n` elements will be $1 + 2 + 3 + 4 + ... + n = \\frac{n(n + 1)}{n}$ and then the amortized cost will be: $\\frac{(n + 1)}{2}$\n"
   ]
  },
  {
   "cell_type": "markdown",
   "id": "3686c295-6d16-4d8c-9754-ae708ed3dcc9",
   "metadata": {},
   "source": [
    "Means, if we add 5 elements consecutively then $\\frac{5(6)}{2} = 15$ total pushes will needed to happen and the **on average** or **per element** we will have $\\frac{(n + 1)}{2} = 3$ pushes.\n",
    "\n",
    "> So, **ammortization** is just another name for the **average** pushes on each element insertion.\n",
    "\n",
    "Now, keep that in mind, that - as the number of elements grow in size, the amortized number will grow as well. And here, it will be much larger. *just imagine that adding 100 elements lead to 5050 total pushes!!*\n"
   ]
  },
  {
   "cell_type": "markdown",
   "id": "c5f01995-e50e-4a9d-a93c-b0b5a6d1079d",
   "metadata": {},
   "source": [
    "2. **Doubling the array, when it gets full**\n",
    "\n",
    "Now, this sounds awsome, so how do we do that? \n",
    "\n",
    "```\n",
    "1st element = 1 push (new array of 2 made now)\n",
    "2nd element = 1 previous + 1 push (new array of 4 made now)\n",
    "3rd element = 1 push (as on the previous we would have made array of 4)\n",
    "4th element = 3 previous + 1 push (new array of 8 made now)\n",
    "5th element = 1 push (as we already have created the array of 8 elements)\n",
    "6th element = 1 push ...\n",
    "```\n",
    "\n",
    "See? We no longer have to copy the old elements everytime.<br>"
   ]
  },
  {
   "cell_type": "markdown",
   "id": "b8ea5e0c-26fe-489e-a05d-7e9a1b45814e",
   "metadata": {},
   "source": [
    "<img src=\"../ref_imgs/amortization.png\" width=300 height=300>"
   ]
  },
  {
   "cell_type": "markdown",
   "id": "e1418f56-f28b-4e6b-886c-238cbbb29723",
   "metadata": {},
   "source": [
    "Thus, our series now becomes *(for copying data)* $1 + 2 + 4 + 8 + 16$ and that is afficient."
   ]
  },
  {
   "cell_type": "markdown",
   "id": "a72c839b-992f-4298-8f92-a37f441e5f5d",
   "metadata": {},
   "source": [
    "# "
   ]
  },
  {
   "cell_type": "markdown",
   "id": "31df059f-0a06-490b-bfca-722849e01d26",
   "metadata": {},
   "source": [
    "# Amazing\n",
    "Like, it is always good to know that it is there, obviously you don't have to do this in real life, but just a lession. Now, from the next book, we will start the interview questions!!\n"
   ]
  }
 ],
 "metadata": {
  "kernelspec": {
   "display_name": "Python 3 (ipykernel)",
   "language": "python",
   "name": "python3"
  },
  "language_info": {
   "codemirror_mode": {
    "name": "ipython",
    "version": 3
   },
   "file_extension": ".py",
   "mimetype": "text/x-python",
   "name": "python",
   "nbconvert_exporter": "python",
   "pygments_lexer": "ipython3",
   "version": "3.9.7"
  }
 },
 "nbformat": 4,
 "nbformat_minor": 5
}
