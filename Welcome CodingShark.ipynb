{
 "cells": [
  {
   "cell_type": "markdown",
   "id": "40b0bd32-6144-4dc8-8af9-205403e50e8a",
   "metadata": {},
   "source": [
    "# Hey man! *(Now Coder)*\n",
    "After long time, I am going for a new journey of coding!\n",
    "\n",
    "I remember, that my last journey with noting down stuff was with the **Stats and Probability** from the udemy and it took a new approach to get there. As I wrote all the stuff in the `.readme` format. And man, literally it all messed up by GitHub, there was no rendering of letex, the formatting buffed... and what not! Then I took some ***SQL courses***, but I didn't go much deep in them, I mean didn't write much thouroughly as I am used to as just wrote the gists. So, now it is another journey 😉\n",
    "\n",
    "—\n",
    "\n",
    "Let's not talk about that for a momement, and start the journey here."
   ]
  },
  {
   "cell_type": "markdown",
   "id": "d7f78389-94ea-4394-9e49-a1b401bac7d9",
   "metadata": {},
   "source": [
    "##### "
   ]
  },
  {
   "cell_type": "markdown",
   "id": "673375e9-2f0a-413a-96bc-0b1e937c1e83",
   "metadata": {},
   "source": [
    "### Coding... but why?\n",
    "Currently it is 27 Jan, 2022 when I am an intern at my very first company and have joined as a **Business Analyst Intern**. It is not much *(mostly)* not technical which relates just to the market research stuff still to keep myself entertained, I use web scraping, presentation, tableau etc. Frankly, if you are some one who is from this company... haha please!\n",
    "\n",
    "So, for coming days I am feeling like I would **need a confidence** to appear at the different roles and need it to crack the rounds as I was JUST A STEP AWAY from getting passed in the turing.com - I need to have the bases of coding and the continuous practice, even I am going for the Data Analyst or Data Scientist role."
   ]
  },
  {
   "cell_type": "markdown",
   "id": "abe2b1b1-77d6-42c3-aa92-324b00c3ead6",
   "metadata": {},
   "source": [
    "##### "
   ]
  },
  {
   "cell_type": "markdown",
   "id": "a095c8a5-fddc-4ca0-8831-96bb18aa110c",
   "metadata": {},
   "source": [
    "### So what now & how? \n",
    "Again, here I am with my very first and the very robust coding partner \"Jupyter\"! It is the widely available and accepted format for... like everyone and those who love the \"clear styling\". \n",
    "\n",
    "> And yes, as a personal note, I am also doing my \"Business Analytics Course\" from coursera and useing **Notion** for that. It is amazing.\n",
    "\n",
    "Back to the main question, I will start as the same as I was used to. \n",
    "\n",
    "1. Will talk about the concept. \n",
    "2. Explain the concept.\n",
    "3. Dig more into it if needed.\n",
    "4. Again talk and explain.\n",
    "5. Write code. Learn. Repeat. *(you know the quotes todays!)*\n",
    "\n",
    "So, I think that will be enough for now... will keep adding the stuff soon."
   ]
  },
  {
   "cell_type": "markdown",
   "id": "a6b21f89-f3bc-4d13-b65d-6ef155e13216",
   "metadata": {},
   "source": [
    "##### "
   ]
  },
  {
   "cell_type": "markdown",
   "id": "d23159a6-6d62-4c5a-a83f-ac2fb0bedf17",
   "metadata": {},
   "source": [
    "### Announcement\n",
    "I am also planning *(thinking)* to add a seperate folder for the **LeetCode** coding practices. So... I don't know we will see!"
   ]
  },
  {
   "cell_type": "markdown",
   "id": "6e02ebff-1549-45b8-9bc8-d3c0dbf99cdb",
   "metadata": {},
   "source": [
    "# "
   ]
  },
  {
   "cell_type": "markdown",
   "id": "9a915f3e-2d3a-432c-b5ab-b41eff2a9941",
   "metadata": {},
   "source": [
    "# That's Ith!\n",
    "See you at the first step in this journey — **\"Big Oh\"**"
   ]
  }
 ],
 "metadata": {
  "kernelspec": {
   "display_name": "Python 3 (ipykernel)",
   "language": "python",
   "name": "python3"
  },
  "language_info": {
   "codemirror_mode": {
    "name": "ipython",
    "version": 3
   },
   "file_extension": ".py",
   "mimetype": "text/x-python",
   "name": "python",
   "nbconvert_exporter": "python",
   "pygments_lexer": "ipython3",
   "version": "3.9.7"
  }
 },
 "nbformat": 4,
 "nbformat_minor": 5
}
