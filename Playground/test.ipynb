{
 "cells": [
  {
   "cell_type": "code",
   "execution_count": 19,
   "metadata": {},
   "outputs": [],
   "source": [
    "def unique_pairs(list_, sum_) -> int:\n",
    "    expected = set()\n",
    "    pairs = set()\n",
    "    for elem in list_:\n",
    "        left_over = sum_ - elem\n",
    "        if elem in expected:\n",
    "            pair = (elem, left_over)\n",
    "            pairs.add(tuple(sorted(pair)))\n",
    "            expected.remove(elem)\n",
    "        else:\n",
    "            expected.add(left_over)\n",
    "    print(pairs)\n",
    "    return len(pairs)"
   ]
  },
  {
   "cell_type": "code",
   "execution_count": 20,
   "metadata": {},
   "outputs": [
    {
     "name": "stdout",
     "output_type": "stream",
     "text": [
      "{(-1, 11), (5, 5), (3, 7), (4, 6), (1, 9), (2, 8)}\n"
     ]
    },
    {
     "data": {
      "text/plain": [
       "6"
      ]
     },
     "execution_count": 20,
     "metadata": {},
     "output_type": "execute_result"
    }
   ],
   "source": [
    "unique_pairs([1,9,2,8,3,7,4,6,5,5,8, 13,14,11,13,-1,2], 10)"
   ]
  },
  {
   "cell_type": "code",
   "execution_count": 125,
   "metadata": {},
   "outputs": [],
   "source": [
    "def find_continuous_largest_sum(array):\n",
    "    curr_sum = max_sum = start_ind = end_ind = 0\n",
    "    for idx, num in enumerate(array):\n",
    "        curr_sum, start_ind = max((curr_sum + num, start_ind), (num, idx))\n",
    "        max_sum, end_ind = max((curr_sum, idx), (max_sum, end_ind))\n",
    "    \n",
    "    return max_sum, start_ind, end_ind"
   ]
  },
  {
   "cell_type": "code",
   "execution_count": 127,
   "metadata": {},
   "outputs": [
    {
     "data": {
      "text/plain": [
       "(27, 3, 6)"
      ]
     },
     "execution_count": 127,
     "metadata": {},
     "output_type": "execute_result"
    }
   ],
   "source": [
    "find_continuous_largest_sum([1,2,-3,3,4,10,10,-10,-1, -700])"
   ]
  },
  {
   "cell_type": "code",
   "execution_count": 132,
   "metadata": {},
   "outputs": [],
   "source": [
    "def stock_prices_best_profit(prices):\n",
    "    profit = 0\n",
    "    buy = sell = prices[0]\n",
    "    for curr_price in prices[1:]:\n",
    "        profit = max((curr_price - buy), profit)\n",
    "        buy = min(buy, curr_price)\n",
    "    return profit"
   ]
  },
  {
   "cell_type": "code",
   "execution_count": 144,
   "metadata": {},
   "outputs": [],
   "source": [
    "def most_profitable_price_pair(prices):\n",
    "    buy_price = prices[0]\n",
    "    sell_price = prices[1]\n",
    "    buy_date = 1\n",
    "    sell_date = 2\n",
    "    max_profit = (0, buy_date, sell_date)\n",
    "    \n",
    "    for date, price in enumerate(prices[1:]):\n",
    "        if price >= buy_price:\n",
    "            if price - buy_price > max_profit[0]:\n",
    "                sell_date = date + 2\n",
    "                max_profit = (price - buy_price, buy_date, sell_date)\n",
    "        else:\n",
    "            buy_price = price\n",
    "            buy_date = date + 2\n",
    "            \n",
    "    return max_profit"
   ]
  },
  {
   "cell_type": "code",
   "execution_count": 145,
   "metadata": {},
   "outputs": [
    {
     "data": {
      "text/plain": [
       "(12, 1, 2)"
      ]
     },
     "execution_count": 145,
     "metadata": {},
     "output_type": "execute_result"
    }
   ],
   "source": [
    "most_profitable_price_pair([4, 16, 10, 2, 8, 8, 10])"
   ]
  },
  {
   "cell_type": "code",
   "execution_count": 156,
   "metadata": {},
   "outputs": [],
   "source": [
    "class Stack:\n",
    "    def __init__(self):\n",
    "        self.stack = []\n",
    "\n",
    "    def push(self, item):\n",
    "        self.stack.append(item)\n",
    "    \n",
    "    def pop(self):\n",
    "        return self.stack.pop(-1)\n",
    "    \n",
    "    def __str__(self):\n",
    "        return str(self.stack)"
   ]
  },
  {
   "cell_type": "code",
   "execution_count": 171,
   "metadata": {},
   "outputs": [],
   "source": [
    "def check_balanced_paranthesis(paranthesis):\n",
    "    stack = Stack()\n",
    "    for para in paranthesis:\n",
    "        if para in \"([{<\":\n",
    "            stack.push(para)\n",
    "        else:\n",
    "            open_ = stack.pop()\n",
    "            if para == \">\" and open_ != \"<\":\n",
    "                return False\n",
    "            elif para == \")\" and open_ != \"(\":\n",
    "                return False\n",
    "            elif para == \"]\" and open_ != \"[\":\n",
    "                return False\n",
    "            elif para == \"}\" and open_ != \"{\":\n",
    "                return False\n",
    "    return True"
   ]
  },
  {
   "cell_type": "code",
   "execution_count": 176,
   "metadata": {},
   "outputs": [
    {
     "data": {
      "text/plain": [
       "False"
      ]
     },
     "execution_count": 176,
     "metadata": {},
     "output_type": "execute_result"
    }
   ],
   "source": [
    "check_balanced_paranthesis(\"()(()]\")"
   ]
  }
 ],
 "metadata": {
  "kernelspec": {
   "display_name": "base",
   "language": "python",
   "name": "python3"
  },
  "language_info": {
   "codemirror_mode": {
    "name": "ipython",
    "version": 3
   },
   "file_extension": ".py",
   "mimetype": "text/x-python",
   "name": "python",
   "nbconvert_exporter": "python",
   "pygments_lexer": "ipython3",
   "version": "3.11.7"
  }
 },
 "nbformat": 4,
 "nbformat_minor": 2
}
