{
 "cells": [
  {
   "cell_type": "markdown",
   "metadata": {},
   "source": [
    "# Balanced Parentheses Check \n",
    "\n",
    "*Get to learn a lot from this - don't skip*\n",
    "\n",
    "## Problem Statement\n",
    "\n",
    "Given a string of opening and closing parentheses, check whether it’s balanced. We have 3 types of parentheses: round brackets: (), square brackets: [], and curly brackets: {}. Assume that the string doesn’t contain any other character than these, no spaces words or numbers. As a reminder, balanced parentheses require every opening parenthesis to be closed in the reverse order opened. For example ‘([])’ is balanced but ‘([)]’ is not. \n",
    "\n",
    "\n",
    "You can assume the input string has no spaces.\n",
    "\n",
    "## Solution\n",
    "\n",
    "Fill out your solution below:"
   ]
  },
  {
   "cell_type": "code",
   "execution_count": 3,
   "metadata": {},
   "outputs": [],
   "source": [
    "# This is my stack class so that \n",
    "# we can use it in the problem solution\n",
    "\n",
    "class Stack:\n",
    "    \"\"\"\n",
    "    A really handy way to use stack in the program\n",
    "    if you don't want to deal into the specifics\n",
    "    use this.\n",
    "    \n",
    "    Involves:\n",
    "    → .push\n",
    "    → .pop\n",
    "    → .isEmpty\n",
    "    → .peek\n",
    "    → .size\n",
    "    \n",
    "    Operations and also alters when there is no elements\n",
    "    are there to show.\n",
    "    \"\"\"\n",
    "    \n",
    "    def __init__(self):\n",
    "        self.stack = []\n",
    "        \n",
    "    def push(self, obj):\n",
    "        self.stack.append(obj)\n",
    "        \n",
    "    def pop(self):\n",
    "        # I know the bad code\n",
    "        # but wanted manual\n",
    "        if not self.isEmpty:\n",
    "            obj = self.stack[-1]\n",
    "            del self.stack[-1]\n",
    "            return obj\n",
    "        raise Exception(\"The stack underflow\")\n",
    "            \n",
    "    def peek(self):\n",
    "        if len(self.stack) > 0:\n",
    "            return self.stack[-1]\n",
    "        raise Exception(\"The stack is empty\")\n",
    "    \n",
    "    @property\n",
    "    def isEmpty(self):\n",
    "        if len(self.stack) == 0:\n",
    "            return True\n",
    "        return False\n",
    "    \n",
    "    @property\n",
    "    def size(self):\n",
    "        return len(self.stack)\n",
    "    \n",
    "    def __repr__(self):\n",
    "        if not self.isEmpty:\n",
    "            string = str(self.stack[-1]) +  \" ← Top\"\n",
    "        else:\n",
    "            string = \"The stack is empty []\"\n",
    "            \n",
    "        for obj in self.stack[-2::-1]:\n",
    "            string += \"\\n\" + str(obj)\n",
    "        return string"
   ]
  },
  {
   "cell_type": "code",
   "execution_count": 14,
   "metadata": {
    "tags": []
   },
   "outputs": [],
   "source": [
    "def balance_check(s):\n",
    "    pair = {\"(\":\")\", \n",
    "            \"[\":\"]\",\n",
    "            \"{\":\"}\"}\n",
    "    \n",
    "    stack = Stack()\n",
    "    for bracket in s:\n",
    "        if bracket in pair:\n",
    "            # means it is open\n",
    "            stack.push(bracket)\n",
    "        else:\n",
    "            # means it is closing\n",
    "            if pair[stack.peek()] == bracket:\n",
    "                stack.pop()\n",
    "            else:\n",
    "                return False\n",
    "    \n",
    "    if stack.size == 0:\n",
    "        return True\n",
    "    return False"
   ]
  },
  {
   "cell_type": "code",
   "execution_count": 15,
   "metadata": {},
   "outputs": [
    {
     "data": {
      "text/plain": [
       "True"
      ]
     },
     "execution_count": 15,
     "metadata": {},
     "output_type": "execute_result"
    }
   ],
   "source": [
    "balance_check('[]')"
   ]
  },
  {
   "cell_type": "code",
   "execution_count": 16,
   "metadata": {},
   "outputs": [
    {
     "data": {
      "text/plain": [
       "True"
      ]
     },
     "execution_count": 16,
     "metadata": {},
     "output_type": "execute_result"
    }
   ],
   "source": [
    "balance_check('[](){([[[]]])}')"
   ]
  },
  {
   "cell_type": "code",
   "execution_count": 17,
   "metadata": {},
   "outputs": [
    {
     "data": {
      "text/plain": [
       "False"
      ]
     },
     "execution_count": 17,
     "metadata": {},
     "output_type": "execute_result"
    }
   ],
   "source": [
    "balance_check('()(){]}')"
   ]
  },
  {
   "cell_type": "markdown",
   "metadata": {},
   "source": [
    "# Test Your Solution"
   ]
  },
  {
   "cell_type": "code",
   "execution_count": 18,
   "metadata": {},
   "outputs": [
    {
     "name": "stdout",
     "output_type": "stream",
     "text": [
      "ALL TEST CASES PASSED\n"
     ]
    }
   ],
   "source": [
    "\"\"\"\n",
    "RUN THIS CELL TO TEST YOUR SOLUTION\n",
    "\"\"\"\n",
    "from nose.tools import assert_equal\n",
    "\n",
    "class TestBalanceCheck(object):\n",
    "    \n",
    "    def test(self,sol):\n",
    "        assert_equal(sol('[](){([[[]]])}('),False)\n",
    "        assert_equal(sol('[{{{(())}}}]((()))'),True)\n",
    "        assert_equal(sol('[[[]])]'),False)\n",
    "        print('ALL TEST CASES PASSED')\n",
    "        \n",
    "# Run Tests\n",
    "\n",
    "t = TestBalanceCheck()\n",
    "t.test(balance_check)"
   ]
  },
  {
   "cell_type": "markdown",
   "metadata": {},
   "source": [
    "#### "
   ]
  },
  {
   "cell_type": "markdown",
   "metadata": {},
   "source": [
    "### Learnt something? "
   ]
  },
  {
   "cell_type": "markdown",
   "metadata": {},
   "source": [
    "Frankly, if I wouldn't have learnt the stack DS, I would have gone slightly longer way of doing it *(ignoring the long implementation of the class of stack 😉)*\n",
    "\n",
    "- Do an edge case check → reject from the start if the length is odd of the string\n",
    "- There is always something for you in every problem for a clever solution"
   ]
  },
  {
   "cell_type": "markdown",
   "metadata": {},
   "source": [
    "## Good Job!"
   ]
  }
 ],
 "metadata": {
  "kernelspec": {
   "display_name": "Python 3 (ipykernel)",
   "language": "python",
   "name": "python3"
  },
  "language_info": {
   "codemirror_mode": {
    "name": "ipython",
    "version": 3
   },
   "file_extension": ".py",
   "mimetype": "text/x-python",
   "name": "python",
   "nbconvert_exporter": "python",
   "pygments_lexer": "ipython3",
   "version": "3.9.7"
  }
 },
 "nbformat": 4,
 "nbformat_minor": 4
}
