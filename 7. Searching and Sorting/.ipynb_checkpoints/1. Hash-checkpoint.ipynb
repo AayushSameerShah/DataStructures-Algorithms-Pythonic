{
 "cells": [
  {
   "cell_type": "markdown",
   "metadata": {},
   "source": [
    "# #️⃣ Hashes!\n",
    "\n",
    "This is pretty simple. We **\"enconde\"** the value in such a way that points to the location of where it is stored. And then just access it!\n",
    "\n",
    "There are **certain ways** to achieve this encoding. And based on which way you choose you get different levele of **hash collision** - a phenomenon where 2 different values produce same encoded/hash value.\n",
    "\n",
    "Our goal is to minimize these hash collisions.\n",
    "\n",
    "**Here we will discuss the following stuff briefly**:\n",
    "1. Hash function\n",
    "2. Hash collision\n",
    "3. Collision resolution"
   ]
  },
  {
   "cell_type": "markdown",
   "metadata": {},
   "source": [
    "# Hash function\n",
    "\n",
    "- Assume that we have the set of integer items: `54, 26, 93, 17, 77, and 31.`\n",
    "\n",
    "- We've preassigned an empty hash table of `m=11` *(means we have total 11 slots available in the memory - at max)*\n",
    "\n",
    "- Our remainder **hash function** then is: `h(item) = item % 11`"
   ]
  },
  {
   "cell_type": "code",
   "execution_count": null,
   "metadata": {},
   "outputs": [],
   "source": []
  }
 ],
 "metadata": {
  "kernelspec": {
   "display_name": "Python 3 (ipykernel)",
   "language": "python",
   "name": "python3"
  },
  "language_info": {
   "codemirror_mode": {
    "name": "ipython",
    "version": 3
   },
   "file_extension": ".py",
   "mimetype": "text/x-python",
   "name": "python",
   "nbconvert_exporter": "python",
   "pygments_lexer": "ipython3",
   "version": "3.11.7"
  }
 },
 "nbformat": 4,
 "nbformat_minor": 4
}
