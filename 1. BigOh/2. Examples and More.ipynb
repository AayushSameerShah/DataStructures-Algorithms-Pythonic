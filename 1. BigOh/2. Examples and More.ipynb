{
 "cells": [
  {
   "cell_type": "markdown",
   "id": "74fb9ab9-0ef3-45a8-8879-c7ce3ed25627",
   "metadata": {},
   "source": [
    "# See the Big-O"
   ]
  },
  {
   "cell_type": "markdown",
   "id": "28ed4248-71a2-4852-a63f-476a121ed759",
   "metadata": {},
   "source": [
    "# "
   ]
  },
  {
   "cell_type": "markdown",
   "id": "7c256fff-9d8f-40c2-a1c9-affbd482fd0f",
   "metadata": {},
   "source": [
    "### The Constant "
   ]
  },
  {
   "cell_type": "code",
   "execution_count": 1,
   "id": "358ab723-52ed-4729-9cde-92a1fcc6275b",
   "metadata": {},
   "outputs": [],
   "source": [
    "def constant(list_):\n",
    "    return list_[-1]"
   ]
  },
  {
   "cell_type": "code",
   "execution_count": 2,
   "id": "d56665de-8067-46e3-a824-ff282a78698e",
   "metadata": {},
   "outputs": [
    {
     "data": {
      "text/plain": [
       "'1Mth'"
      ]
     },
     "execution_count": 2,
     "metadata": {},
     "output_type": "execute_result"
    }
   ],
   "source": [
    "a = [0, 1, 2, 3, \"1Mth\"]\n",
    "constant(a)"
   ]
  },
  {
   "cell_type": "markdown",
   "id": "80f0a40d-a7f8-43e5-a5a1-24b175b6e434",
   "metadata": {},
   "source": [
    "↑ This will be always $O(1)$ no matter how big the $n$ is. So it is constant."
   ]
  },
  {
   "cell_type": "markdown",
   "id": "5e93ec42-cad6-4856-952c-965febd471f5",
   "metadata": {},
   "source": [
    "### The Linear "
   ]
  },
  {
   "cell_type": "code",
   "execution_count": 7,
   "id": "d55facab-5eed-45c6-b0b0-ae136d3fb469",
   "metadata": {},
   "outputs": [],
   "source": [
    "def linear(list_):\n",
    "    for i in list_:\n",
    "        i + i"
   ]
  },
  {
   "cell_type": "code",
   "execution_count": 8,
   "id": "216f89f0-84b8-421c-bcf6-2eca20b18d5d",
   "metadata": {},
   "outputs": [],
   "source": [
    "a = [0, 1, 2, 3, \"1Mth\"]\n",
    "linear(a)"
   ]
  },
  {
   "cell_type": "markdown",
   "id": "abc72d61-41e5-4c32-8f74-54750fda6375",
   "metadata": {},
   "source": [
    "↑ This will be $O(n)$ as the size of the list will affect. Of course."
   ]
  },
  {
   "cell_type": "markdown",
   "id": "9d5708ca-f606-4108-8eb4-37de470d4449",
   "metadata": {},
   "source": [
    "### The Quaderatic "
   ]
  },
  {
   "cell_type": "code",
   "execution_count": 9,
   "id": "ed78915c-e6c8-40c8-a19a-736c9b841025",
   "metadata": {},
   "outputs": [],
   "source": [
    "def quad(list_):\n",
    "    for i in list_:\n",
    "        for j in list_:\n",
    "            i + j"
   ]
  },
  {
   "cell_type": "code",
   "execution_count": 12,
   "id": "708a112c-0b26-4454-83b8-eec52370f1d5",
   "metadata": {},
   "outputs": [],
   "source": [
    "a = [0, 1, 2, 3]\n",
    "quad(a)"
   ]
  },
  {
   "cell_type": "markdown",
   "id": "27e8973a-e046-4538-98d5-6ffe6c845984",
   "metadata": {},
   "source": [
    "↑ This will be $O(n^2)$ as we are traversing **whole** array twice. Hence it is $n \\times n$.\n",
    "\n",
    "See, **not all the times** we will be doing this, like traversing the **same** array twice. We might traverse the array of different sizes... like $n \\times m$. So, it will be $O(n \\times m)$."
   ]
  },
  {
   "cell_type": "markdown",
   "id": "10104d4f-93ef-49ce-a9f6-7498b0cfdf64",
   "metadata": {},
   "source": [
    "# This is different ↓ "
   ]
  },
  {
   "cell_type": "code",
   "execution_count": 13,
   "id": "d2449ac3-0bbf-4176-a483-c0b087b2ff94",
   "metadata": {},
   "outputs": [],
   "source": [
    "def ___(list_): # tell the name?\n",
    "    for i in list_:\n",
    "        i + i\n",
    "    \n",
    "    for j in list_:\n",
    "        j + j"
   ]
  },
  {
   "cell_type": "code",
   "execution_count": 15,
   "id": "3f28ef77-d874-4581-99c4-a62d9757532a",
   "metadata": {},
   "outputs": [],
   "source": [
    "a = [1, 2, 3, 4, 5]\n",
    "___(a)"
   ]
  },
  {
   "cell_type": "markdown",
   "id": "bb09dad7-9c6b-4f1a-a1b1-e381c5135da1",
   "metadata": {},
   "source": [
    "There, we **are not** doing any kind of permutation like in the $O(n^2)$ right?\n",
    "\n",
    "> Here, the computation is the same \"linear\". But ***twice***. So the Twice Linear.\n",
    "\n",
    "<u>**Q.**</u> Can we call it → $O(2n)$ ? <br>\n",
    "<u>**A**</u> Yes we can! But we *shouldn't*. Because as the rule of Big-O, we are used to **drop** the constants from the notation. So the $O(2n)$ will also be written as $O(n)$.\n",
    "\n",
    "Hence, $O(2n)$ = $O(n)$\n"
   ]
  },
  {
   "cell_type": "code",
   "execution_count": 16,
   "id": "05b11469-504b-4a10-a838-f7f1fbbb3afd",
   "metadata": {},
   "outputs": [],
   "source": [
    "def this_case(list_):\n",
    "    \n",
    "    print(list_[0])\n",
    "    for i in range(len(list_) // 2):\n",
    "        i + i\n",
    "        \n",
    "    for i in range(5):\n",
    "        i + i"
   ]
  },
  {
   "cell_type": "markdown",
   "id": "6725d4c0-330e-4d8f-a4b9-60cd11935017",
   "metadata": {},
   "source": [
    "Here it is the combination of: $O(1) + O(n/2) + O(5)$ so, as the rule, we can **drop the constants** as they becomes the insignificant when n becomes the infinity. \n",
    "\n",
    "So simply that complexity will be $O(n)$ for that!"
   ]
  },
  {
   "cell_type": "markdown",
   "id": "b6a3d3da-e608-42a0-922d-871ae052e0c1",
   "metadata": {},
   "source": [
    "# "
   ]
  },
  {
   "cell_type": "markdown",
   "id": "b5c1665a-c424-4195-a07a-6bca67a127e4",
   "metadata": {},
   "source": [
    "## Space...? Where is space in here? "
   ]
  },
  {
   "cell_type": "markdown",
   "id": "5e5d5443-0b12-404a-af59-92ea3d0a11ae",
   "metadata": {},
   "source": [
    "See, mostly we are dealing with the \"faster\" algorithms. So, we care about the **time** which we have just discussed. But about space, we deal with the **assignments** that happen in the memory. So take the example below ↓"
   ]
  },
  {
   "cell_type": "code",
   "execution_count": 1,
   "id": "77e7d3e0-899a-431e-b621-4f5b235665ef",
   "metadata": {},
   "outputs": [],
   "source": [
    "for i in range(5):\n",
    "    i + i"
   ]
  },
  {
   "cell_type": "markdown",
   "id": "795fca35-4349-47f9-bf5e-f0b93c8f3b95",
   "metadata": {},
   "source": [
    "Here, the **time comp** is $O(n)$ but the **space comp** is $O(1)$ as there is nothing being stored here! Except the value of `i`. So, there you go!"
   ]
  },
  {
   "cell_type": "markdown",
   "id": "67e16d1b-8ff4-440d-b18d-7d9348ba655c",
   "metadata": {},
   "source": [
    "# "
   ]
  },
  {
   "cell_type": "markdown",
   "id": "71304f77-2606-41cd-b3d0-f5639b214e6d",
   "metadata": {},
   "source": [
    "Might want to save it for later: [Data Structures / Sorting Comparision](https://www.bigocheatsheet.com/)"
   ]
  },
  {
   "cell_type": "markdown",
   "id": "e7a94842-6731-4b9d-a0f9-a30b9ebaa09c",
   "metadata": {},
   "source": [
    "# Yeah!\n",
    "See you at the next adventure!"
   ]
  }
 ],
 "metadata": {
  "kernelspec": {
   "display_name": "Python 3 (ipykernel)",
   "language": "python",
   "name": "python3"
  },
  "language_info": {
   "codemirror_mode": {
    "name": "ipython",
    "version": 3
   },
   "file_extension": ".py",
   "mimetype": "text/x-python",
   "name": "python",
   "nbconvert_exporter": "python",
   "pygments_lexer": "ipython3",
   "version": "3.9.7"
  }
 },
 "nbformat": 4,
 "nbformat_minor": 5
}
