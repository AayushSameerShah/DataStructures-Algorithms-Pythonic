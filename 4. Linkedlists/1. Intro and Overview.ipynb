{
 "cells": [
  {
   "cell_type": "markdown",
   "id": "71b6299c-a330-4457-b711-f002ba20b0a4",
   "metadata": {},
   "source": [
    "# 😉 Frankly, I like this topic "
   ]
  },
  {
   "cell_type": "markdown",
   "id": "f71fe772-6109-48ce-bbee-70d61057234a",
   "metadata": {},
   "source": [
    "Dude, we have already learnt this one before! I know but will strongly suggest to go over this topic once again because this is gonna be helpful later *(maybe)* because of the upcoming graph theories.\n",
    "\n",
    "Linked list is the amazing way to represent the **manual** data structure in the programming language, apart from their **pointer** burden, they are amazing. \n",
    "\n",
    "Let's go over what will we cover."
   ]
  },
  {
   "cell_type": "markdown",
   "id": "44147b2c-05c8-44ba-8803-ab21485775d6",
   "metadata": {},
   "source": [
    "###### "
   ]
  },
  {
   "cell_type": "markdown",
   "id": "b4fe7c98-add9-4df1-a9cd-8da34d3bf497",
   "metadata": {},
   "source": [
    "#### ✌ Types\n",
    "1. Singly linked lists (one way traversal)\n",
    "2. Doubly linked lists (two way traversal)\n",
    "\n",
    "I know, in my BCA, I also learnt the ***circular*** linked list where the cycle was being formed. But it doesn't seem necessary to this program. So, they might have skipped it.\n",
    "\n",
    "The **ly** extention makes it more friendly to look at even if it contains the big stuff like POINTER!! Hah!"
   ]
  },
  {
   "cell_type": "markdown",
   "id": "2edefb02-9074-45a1-8afa-2b87b7ce3169",
   "metadata": {},
   "source": [
    "# "
   ]
  },
  {
   "cell_type": "markdown",
   "id": "9afd7161-ce71-430b-ac86-766e6de071bc",
   "metadata": {},
   "source": [
    "# Next up,\n",
    "I feel like, apart from making all at once in the single notebook, I should make different book for them. So we will cover they types in the upcoming notebook(s)."
   ]
  }
 ],
 "metadata": {
  "kernelspec": {
   "display_name": "Python 3 (ipykernel)",
   "language": "python",
   "name": "python3"
  },
  "language_info": {
   "codemirror_mode": {
    "name": "ipython",
    "version": 3
   },
   "file_extension": ".py",
   "mimetype": "text/x-python",
   "name": "python",
   "nbconvert_exporter": "python",
   "pygments_lexer": "ipython3",
   "version": "3.9.7"
  }
 },
 "nbformat": 4,
 "nbformat_minor": 5
}
