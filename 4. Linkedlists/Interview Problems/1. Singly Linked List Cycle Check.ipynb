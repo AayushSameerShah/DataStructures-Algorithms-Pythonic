{
 "cells": [
  {
   "cell_type": "markdown",
   "metadata": {},
   "source": [
    "# Singly Linked List Cycle Check \n",
    "\n",
    "## Problem\n",
    "\n",
    "Given a singly linked list, write a function which takes in the first node in a singly linked list and returns a boolean indicating if the linked list contains a \"cycle\".\n",
    "\n",
    "A cycle is when a node's next point actually points back to a previous node in the list. This is also sometimes known as a circularly linked list.\n",
    "\n",
    "You've been given the Linked List Node class code:"
   ]
  },
  {
   "cell_type": "code",
   "execution_count": 2,
   "metadata": {},
   "outputs": [],
   "source": [
    "class Node(object):\n",
    "    def __init__(self,value):\n",
    "        self.value = value\n",
    "        self.nextnode = None"
   ]
  },
  {
   "cell_type": "markdown",
   "metadata": {},
   "source": [
    "## Solution\n",
    "\n",
    "**📝 First thought**: We may keep track of the \"hash\" of each nodes. So, if the visited node is in the hash, and is being visited again, then we have a cycle.\n",
    "\n",
    "**📝 Solution thought**: We will have **2** markers. The marker 2 will run 2 nodes ahead of marker 1. So if there is a cycle, marker 1 and 2 will meet somewhere and become equal.\n",
    "\n",
    "<img src=\"../../ref_imgs/s-ll-cycle.png\">"
   ]
  },
  {
   "cell_type": "code",
   "execution_count": 24,
   "metadata": {},
   "outputs": [],
   "source": [
    "def cycle_check(node) -> bool:\n",
    "    def seek_M1(M1):\n",
    "        if M1:\n",
    "            M1 = M1.nextnode\n",
    "        return M1\n",
    "    \n",
    "    def seek_M2(M2):\n",
    "        if M2:\n",
    "            M2 = M2.nextnode\n",
    "        if M2:\n",
    "            M2 = M2.nextnode\n",
    "        return M2\n",
    "    \n",
    "\n",
    "    M1 = node\n",
    "    M2 = seek_M2(node)\n",
    "    if M2 is None:\n",
    "        return False\n",
    "\n",
    "    print(\"[Initial] M1: {} | M2: {}\".format(M1.value, M2.value))\n",
    "    while M2:\n",
    "        M1 = seek_M1(M1)\n",
    "        M2 = seek_M2(M2)\n",
    "        print(\"[Loop] M1: {} | M2: {}\".format(M1.value, M2.value))\n",
    "        if M1 == M2:\n",
    "            return True\n",
    "    return False"
   ]
  },
  {
   "cell_type": "markdown",
   "metadata": {},
   "source": [
    "# Test Your Solution"
   ]
  },
  {
   "cell_type": "code",
   "execution_count": 25,
   "metadata": {},
   "outputs": [],
   "source": [
    "# CREATE CYCLE LIST\n",
    "a = Node(1)\n",
    "b = Node(2)\n",
    "c = Node(3)\n",
    "\n",
    "a.nextnode = b\n",
    "b.nextnode = c\n",
    "c.nextnode = a # Cycle Here!\n",
    "\n",
    "\n",
    "# CREATE NON CYCLE LIST\n",
    "x = Node(1)\n",
    "y = Node(2)\n",
    "z = Node(3)\n",
    "\n",
    "x.nextnode = y\n",
    "y.nextnode = z\n"
   ]
  },
  {
   "cell_type": "code",
   "execution_count": 27,
   "metadata": {},
   "outputs": [
    {
     "name": "stdout",
     "output_type": "stream",
     "text": [
      "[Initial] M1: 1 | M2: 3\n",
      "[Loop] M1: 2 | M2: 2\n"
     ]
    },
    {
     "data": {
      "text/plain": [
       "True"
      ]
     },
     "execution_count": 27,
     "metadata": {},
     "output_type": "execute_result"
    }
   ],
   "source": [
    "cycle_check(a)\n"
   ]
  },
  {
   "cell_type": "markdown",
   "metadata": {},
   "source": [
    "## Good Job!"
   ]
  }
 ],
 "metadata": {
  "kernelspec": {
   "display_name": "Python 3",
   "language": "python",
   "name": "python3"
  },
  "language_info": {
   "codemirror_mode": {
    "name": "ipython",
    "version": 3
   },
   "file_extension": ".py",
   "mimetype": "text/x-python",
   "name": "python",
   "nbconvert_exporter": "python",
   "pygments_lexer": "ipython3",
   "version": "3.11.7"
  }
 },
 "nbformat": 4,
 "nbformat_minor": 1
}
