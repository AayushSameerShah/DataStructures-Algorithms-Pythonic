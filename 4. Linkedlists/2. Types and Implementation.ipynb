{
 "cells": [
  {
   "cell_type": "markdown",
   "id": "24b680ca-04a2-4fd8-ad0c-86d2cf5fb90e",
   "metadata": {},
   "source": [
    "# Discussion and Implementation "
   ]
  },
  {
   "cell_type": "markdown",
   "id": "175d6b32-3bae-4025-8eee-5ece6ce092d3",
   "metadata": {},
   "source": [
    "#### "
   ]
  },
  {
   "cell_type": "markdown",
   "id": "430fc868-bde6-4135-b25f-3598290ca0aa",
   "metadata": {},
   "source": [
    "## `1.` Singly Linked Lists "
   ]
  },
  {
   "cell_type": "markdown",
   "id": "88897112-d740-4a7c-956c-4459ad251eb7",
   "metadata": {},
   "source": [
    "#### 🕶 Overview"
   ]
  },
  {
   "cell_type": "markdown",
   "id": "a01b0ca8-a476-4cd7-84e6-bb990303e73e",
   "metadata": {},
   "source": [
    "- **Collection of nodes** which collectively makes a sequence\n",
    "- Each node **stores the reference** to the next node"
   ]
  },
  {
   "cell_type": "markdown",
   "id": "dce5f8d1-9cd2-4ae9-a117-6f13bfcf11de",
   "metadata": {},
   "source": [
    "<pre>\n",
    "┌────┬────┐     ┌────┬────┐    ┌────┬────┐ \n",
    "│HEAD│    │     │    │    │    │TAIL│    │ \n",
    "│ #  │•┌──┼────►│ #  │•┌──┼────► #  │NULL│\n",
    "└────┴─┴──┘     └────┴─┴──┘    └────┴────┘ </pre>"
   ]
  },
  {
   "cell_type": "markdown",
   "id": "45a76947-56b3-453d-a37d-b5b6c8e74e28",
   "metadata": {},
   "source": [
    "- The ***traversal*** over the linked list is sometimes called **\"Linked Hoping\"** or **\"Pointer Hoping\"**."
   ]
  },
  {
   "cell_type": "markdown",
   "id": "e96d045d-8366-4b22-9c73-b767bf3a9477",
   "metadata": {},
   "source": [
    "#### "
   ]
  },
  {
   "cell_type": "markdown",
   "id": "88016c35-c0dc-4bf6-b7ca-04e0c60f6cd0",
   "metadata": {},
   "source": [
    "ℹ Properties:\n",
    "    \n",
    "- Does not have a **predetermined** fixed size\n",
    "- Can only **traverse from left to right**\n",
    "- There is **no shifting overhead** due to deletion of insertion of an element *(node)* from the middle as we needed to do in the lists"
   ]
  },
  {
   "cell_type": "markdown",
   "id": "617b329b-e89c-4baa-87bb-4350c373239b",
   "metadata": {},
   "source": [
    "Insert at <u>head</u>:\n",
    "\n",
    "1. **Create** a node\n",
    "2. **Put element** in that node\n",
    "3. **Refer** the current head node from that node\n",
    "4. **Set** the **list's head** as this new head"
   ]
  },
  {
   "cell_type": "markdown",
   "id": "03126adf-1a3d-4b70-a546-fbfb77c3f639",
   "metadata": {},
   "source": [
    "Insert at <u>tail</u>:\n",
    "\n",
    "1. **Create** a node\n",
    "2. **Put element** in that node\n",
    "3. **Refer** change the current tail's reference part referencing to this new node\n",
    "4. **Set** null to this new node in the referencing area"
   ]
  },
  {
   "cell_type": "markdown",
   "id": "c8740c82-1455-448a-b9ed-5ee8c3b2e86a",
   "metadata": {},
   "source": [
    "#### 👩‍💻 Implementation"
   ]
  },
  {
   "cell_type": "markdown",
   "id": "04fa4e80-ad97-4987-97e9-8c8c6a90e073",
   "metadata": {},
   "source": [
    "The implementation itself is easy, the trick is when we want to perform certain operations like **reversing linked list** and **removing elements from middle** etc. So, let's see how."
   ]
  },
  {
   "cell_type": "markdown",
   "id": "aba1794a-8600-4d88-9922-ebf87fc0ec0c",
   "metadata": {},
   "source": [
    "Building <>"
   ]
  },
  {
   "cell_type": "code",
   "execution_count": 105,
   "id": "a0c2cfa3-95d5-4de4-9fb4-b93f23037edf",
   "metadata": {},
   "outputs": [],
   "source": [
    "class SinglyNode:\n",
    "    \"\"\"\n",
    "    This class represents the node which has 2 attributes\n",
    "    1. Value\n",
    "    2. Reference\n",
    "    \n",
    "    TO BE UPDATED\n",
    "    \"\"\"\n",
    "    def __init__(self, value):\n",
    "        self.value = value\n",
    "        self.next_node = None\n",
    "        \n",
    "    def __repr__(self):\n",
    "        value = str(self.value)\n",
    "        if len(value) > 17:\n",
    "            value = value[:14]\n",
    "            value += \"...\"\n",
    "        else:\n",
    "            value = value.center(17)\n",
    "            \n",
    "        addr = str(self.next_node).center(5) if self.next_node is None else hex(id(self.next_node))[:5]\n",
    "        return f\"\"\"\n",
    "┌───────────────────┬───────┐\n",
    "│                   │       │\n",
    "│ {value} │ {addr} │\n",
    "│                   │       │\n",
    "└───────────────────┴───────┘\n",
    "\"\"\"      "
   ]
  },
  {
   "cell_type": "markdown",
   "id": "ea0aab7c-adfa-4399-a9a7-b8d7dd7fdb11",
   "metadata": {},
   "source": [
    "The class implemented just above will provide the NODE for singly linked list. Let's see how the sample behavour is."
   ]
  },
  {
   "cell_type": "code",
   "execution_count": 106,
   "id": "e5cd414d-99e7-47f6-9d5b-a5f9a3975b2f",
   "metadata": {},
   "outputs": [],
   "source": [
    "node = SinglyNode(\"Aayush\")"
   ]
  },
  {
   "cell_type": "code",
   "execution_count": 107,
   "id": "6765ab0d-7d29-4c11-b712-1af718d6abdd",
   "metadata": {},
   "outputs": [
    {
     "data": {
      "text/plain": [
       "\n",
       "┌───────────────────┬───────┐\n",
       "│                   │       │\n",
       "│       Aayush      │  None │\n",
       "│                   │       │\n",
       "└───────────────────┴───────┘"
      ]
     },
     "execution_count": 107,
     "metadata": {},
     "output_type": "execute_result"
    }
   ],
   "source": [
    "# The nice repr\n",
    "node"
   ]
  },
  {
   "cell_type": "code",
   "execution_count": 108,
   "id": "b7848df7-95c5-4495-99a8-fe1be22faf28",
   "metadata": {},
   "outputs": [],
   "source": [
    "node.next_node = SinglyNode(\"Sameer\")"
   ]
  },
  {
   "cell_type": "code",
   "execution_count": 109,
   "id": "bd73c21c-bbfb-4d46-b24e-22cfec5d6623",
   "metadata": {},
   "outputs": [
    {
     "data": {
      "text/plain": [
       "\n",
       "┌───────────────────┬───────┐\n",
       "│                   │       │\n",
       "│       Aayush      │ 0x21d │\n",
       "│                   │       │\n",
       "└───────────────────┴───────┘"
      ]
     },
     "execution_count": 109,
     "metadata": {},
     "output_type": "execute_result"
    }
   ],
   "source": [
    "node"
   ]
  },
  {
   "cell_type": "code",
   "execution_count": 113,
   "id": "a7864955-4634-4f9c-84fe-18712fea6668",
   "metadata": {},
   "outputs": [
    {
     "data": {
      "text/plain": [
       "\n",
       "┌───────────────────┬───────┐\n",
       "│                   │       │\n",
       "│     [1, 2, 3]     │  None │\n",
       "│                   │       │\n",
       "└───────────────────┴───────┘"
      ]
     },
     "execution_count": 113,
     "metadata": {},
     "output_type": "execute_result"
    }
   ],
   "source": [
    "# Even it truncate the value if long\n",
    "some_node = SinglyNode([1, 2, 3])\n",
    "some_node"
   ]
  },
  {
   "cell_type": "code",
   "execution_count": 114,
   "id": "6860226b-f15c-463f-8bdf-f35efa177248",
   "metadata": {},
   "outputs": [
    {
     "data": {
      "text/plain": [
       "\n",
       "┌───────────────────┬───────┐\n",
       "│                   │       │\n",
       "│ [1, 2, 3, 4, 5... │  None │\n",
       "│                   │       │\n",
       "└───────────────────┴───────┘"
      ]
     },
     "execution_count": 114,
     "metadata": {},
     "output_type": "execute_result"
    }
   ],
   "source": [
    "# Even it truncate the value if long\n",
    "some_node = SinglyNode([1, 2, 3, 4, 5, 6, 7])\n",
    "some_node"
   ]
  },
  {
   "cell_type": "markdown",
   "id": "1767fb76-e389-48aa-ab60-70ab0a8f2c5c",
   "metadata": {},
   "source": [
    "##### "
   ]
  },
  {
   "cell_type": "markdown",
   "id": "03314eb0-c76e-434a-a58e-46a636ed7db8",
   "metadata": {},
   "source": [
    "🔗 Let's now create the LINKED LIST class which can give us the flexibility to perform varous tasks."
   ]
  },
  {
   "cell_type": "code",
   "execution_count": 317,
   "id": "449d701a-51f2-4673-bdf1-67f6a142a45c",
   "metadata": {},
   "outputs": [],
   "source": [
    "class SinglyLinkedList:\n",
    "    \"\"\"\n",
    "    This class is responsible for making the nodes \n",
    "    and iterating over them.\n",
    "    \n",
    "    This will enable you to perform:\n",
    "    1. Add at head\n",
    "    2. Remove head\n",
    "    3 Add at tail\n",
    "    4. Remove tail\n",
    "    5. Add at middle\n",
    "    6. Remove at middle\n",
    "    7. Traversal\n",
    "    \n",
    "    Pretty easy!\n",
    "    \"\"\"\n",
    "    def __init__(self, values=None):\n",
    "        \"\"\"\n",
    "        Parameters\n",
    "        ----------\n",
    "        \n",
    "        values: Requires the sequence to initialize the \n",
    "                linked list with the values in it.\n",
    "                \n",
    "                Acceptable objects = List, Tuple\n",
    "        \"\"\"\n",
    "        if values is None:\n",
    "            # Simply create a head and stop\n",
    "            self.head = None\n",
    "            self.len = 0\n",
    "        else:\n",
    "            # The non-none passed - should be list or tuple\n",
    "            if isinstance(values, (list, tuple)):\n",
    "                # go and initialize them\n",
    "                self.head = SinglyNode(values[0])\n",
    "                self.len = 1\n",
    "                prev_node = self.head\n",
    "                for value in values[1:]:\n",
    "                    new_node = SinglyNode(value)\n",
    "                    prev_node.next_node = new_node\n",
    "                    prev_node = new_node\n",
    "                    self.len += 1\n",
    "                self.tail = prev_node\n",
    "            else:\n",
    "                raise Exception(\"Please provide LIST or TUPLE for initialization\")\n",
    "                \n",
    "    def add_at_tail(self, value):\n",
    "        new_node = SinglyNode(value)\n",
    "        self.tail.next_node = new_node\n",
    "        self.tail = new_node\n",
    "        self.len += 1\n",
    "        \n",
    "    def add_at_head(self, value):\n",
    "        new_node = SinglyNode(value)\n",
    "        new_node.next_node = self.head\n",
    "        self.head = new_node\n",
    "        self.len += 1\n",
    "        \n",
    "    def add_at_middle(self, value, pos):\n",
    "        if pos == 0: self.add_at_head(value)\n",
    "        elif pos == self.len: self.add_at_tail(value)\n",
    "        else:\n",
    "            node_at = self[pos - 1]\n",
    "            new_node = SinglyNode(value)\n",
    "            new_node.next_node = node_at.next_node\n",
    "            node_at.next_node = new_node\n",
    "            self.len += 1\n",
    "        \n",
    "    def __getitem__(self, index):\n",
    "        if isinstance(index, int):\n",
    "            if index >= self.len:\n",
    "                raise IndexError(f\"You have given the index which is out of bounds than the {self.len} length linked list\")\n",
    "            else:\n",
    "                th_node = self.head\n",
    "                for i in range(index):\n",
    "                    th_node = th_node.next_node\n",
    "                return th_node\n",
    "            \n",
    "        elif isinstance(index, slice):\n",
    "            start = index.start\n",
    "            stop = index.stop\n",
    "            \n",
    "            if start is None: start = 0\n",
    "            if stop is None: stop = self.len\n",
    "            n_nodes_to_travel = stop - start\n",
    "            \n",
    "            th_node = self[start]\n",
    "            for i in range(n_nodes_to_travel):\n",
    "                if (i == n_nodes_to_travel - 1) or (th_node.next_node is None):\n",
    "                    print(th_node.value)\n",
    "                    break\n",
    "                else:\n",
    "                    print(th_node.value, end=\" → \")\n",
    "                    th_node = th_node.next_node\n",
    "            \n",
    "    def __repr__(self):\n",
    "        self[:]\n",
    "        return \"\""
   ]
  },
  {
   "cell_type": "code",
   "execution_count": 318,
   "id": "b8b7c921-766a-4a90-aa0a-f0f463e879eb",
   "metadata": {},
   "outputs": [],
   "source": [
    "llst = SinglyLinkedList([1, 2, 3])"
   ]
  },
  {
   "cell_type": "code",
   "execution_count": 319,
   "id": "71c78c46-eedf-441a-94c1-746e4bb83782",
   "metadata": {},
   "outputs": [
    {
     "name": "stdout",
     "output_type": "stream",
     "text": [
      "1 → 2 → 3\n"
     ]
    },
    {
     "data": {
      "text/plain": []
     },
     "execution_count": 319,
     "metadata": {},
     "output_type": "execute_result"
    }
   ],
   "source": [
    "llst"
   ]
  },
  {
   "cell_type": "code",
   "execution_count": 324,
   "id": "70431531-d1ce-486f-8f4a-d03dabe22174",
   "metadata": {},
   "outputs": [],
   "source": [
    "llst.add_at_middle(232, 0)"
   ]
  },
  {
   "cell_type": "code",
   "execution_count": 325,
   "id": "5f83d1c0-c239-4c45-a89b-c220a0b5515a",
   "metadata": {},
   "outputs": [
    {
     "name": "stdout",
     "output_type": "stream",
     "text": [
      "232 → 1 → 2 → 3 → 232\n"
     ]
    },
    {
     "data": {
      "text/plain": []
     },
     "execution_count": 325,
     "metadata": {},
     "output_type": "execute_result"
    }
   ],
   "source": [
    "llst"
   ]
  },
  {
   "cell_type": "code",
   "execution_count": 242,
   "id": "4362f926-b9dd-4ed6-90ca-0fadecce429e",
   "metadata": {},
   "outputs": [
    {
     "name": "stdout",
     "output_type": "stream",
     "text": [
      "2 → 3\n"
     ]
    }
   ],
   "source": [
    "a  = llst[1:3]"
   ]
  },
  {
   "cell_type": "code",
   "execution_count": 150,
   "id": "de3f4cd8-5cfa-44c8-98c9-7b685fdb19a1",
   "metadata": {},
   "outputs": [
    {
     "data": {
      "text/plain": [
       "\n",
       "┌───────────────────┬───────┐\n",
       "│                   │       │\n",
       "│         -1        │ 0x21d │\n",
       "│                   │       │\n",
       "└───────────────────┴───────┘"
      ]
     },
     "execution_count": 150,
     "metadata": {},
     "output_type": "execute_result"
    }
   ],
   "source": [
    "llst.head"
   ]
  },
  {
   "cell_type": "code",
   "execution_count": 147,
   "id": "4d26df31-efc4-4222-b735-bb1f59b6dbf9",
   "metadata": {},
   "outputs": [],
   "source": [
    "llst.add_at_head(-1)"
   ]
  },
  {
   "cell_type": "code",
   "execution_count": null,
   "id": "c7a53ce2-1e24-45a5-8b0d-e48b06f237fb",
   "metadata": {},
   "outputs": [],
   "source": [
    "l"
   ]
  }
 ],
 "metadata": {
  "kernelspec": {
   "display_name": "Python 3 (ipykernel)",
   "language": "python",
   "name": "python3"
  },
  "language_info": {
   "codemirror_mode": {
    "name": "ipython",
    "version": 3
   },
   "file_extension": ".py",
   "mimetype": "text/x-python",
   "name": "python",
   "nbconvert_exporter": "python",
   "pygments_lexer": "ipython3",
   "version": "3.9.7"
  }
 },
 "nbformat": 4,
 "nbformat_minor": 5
}
