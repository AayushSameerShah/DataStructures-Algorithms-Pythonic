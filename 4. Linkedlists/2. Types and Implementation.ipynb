{
 "cells": [
  {
   "cell_type": "markdown",
   "id": "24b680ca-04a2-4fd8-ad0c-86d2cf5fb90e",
   "metadata": {},
   "source": [
    "# Discussion and Implementation "
   ]
  },
  {
   "cell_type": "markdown",
   "id": "175d6b32-3bae-4025-8eee-5ece6ce092d3",
   "metadata": {},
   "source": [
    "#### "
   ]
  },
  {
   "cell_type": "markdown",
   "id": "430fc868-bde6-4135-b25f-3598290ca0aa",
   "metadata": {},
   "source": [
    "## `1.` Singly Linked Lists "
   ]
  },
  {
   "cell_type": "markdown",
   "id": "88897112-d740-4a7c-956c-4459ad251eb7",
   "metadata": {},
   "source": [
    "#### 🕶 Overview"
   ]
  },
  {
   "cell_type": "markdown",
   "id": "a01b0ca8-a476-4cd7-84e6-bb990303e73e",
   "metadata": {},
   "source": [
    "- **Collection of nodes** which collectively makes a sequence\n",
    "- Each node **stores the reference** to the next node"
   ]
  },
  {
   "cell_type": "markdown",
   "id": "dce5f8d1-9cd2-4ae9-a117-6f13bfcf11de",
   "metadata": {},
   "source": [
    "<pre>\n",
    "┌────┬────┐     ┌────┬────┐    ┌────┬────┐ \n",
    "│HEAD│    │     │    │    │    │TAIL│    │ \n",
    "│ #  │•┌──┼────►│ #  │•┌──┼────► #  │NULL│\n",
    "└────┴─┴──┘     └────┴─┴──┘    └────┴────┘ </pre>"
   ]
  },
  {
   "cell_type": "markdown",
   "id": "45a76947-56b3-453d-a37d-b5b6c8e74e28",
   "metadata": {},
   "source": [
    "- The ***traversal*** over the linked list is sometimes called **\"Linked Hoping\"** or **\"Pointer Hoping\"**."
   ]
  },
  {
   "cell_type": "markdown",
   "id": "e96d045d-8366-4b22-9c73-b767bf3a9477",
   "metadata": {},
   "source": [
    "#### "
   ]
  },
  {
   "cell_type": "markdown",
   "id": "88016c35-c0dc-4bf6-b7ca-04e0c60f6cd0",
   "metadata": {},
   "source": [
    "ℹ Properties:\n",
    "    \n",
    "- Does not have a **predetermined** fixed size\n",
    "- Can only **traverse from left to right**\n",
    "- There is **no shifting overhead** due to deletion of insertion of an element *(node)* from the middle as we needed to do in the lists"
   ]
  },
  {
   "cell_type": "markdown",
   "id": "617b329b-e89c-4baa-87bb-4350c373239b",
   "metadata": {},
   "source": [
    "Insert at <u>head</u>:\n",
    "\n",
    "1. **Create** a node\n",
    "2. **Put element** in that node\n",
    "3. **Refer** the current head node from that node\n",
    "4. **Set** the **list's head** as this new head"
   ]
  },
  {
   "cell_type": "markdown",
   "id": "03126adf-1a3d-4b70-a546-fbfb77c3f639",
   "metadata": {},
   "source": [
    "Insert at <u>tail</u>:\n",
    "\n",
    "1. **Create** a node\n",
    "2. **Put element** in that node\n",
    "3. **Refer** change the current tail's reference part referencing to this new node\n",
    "4. **Set** null to this new node in the referencing area"
   ]
  },
  {
   "cell_type": "markdown",
   "id": "c8740c82-1455-448a-b9ed-5ee8c3b2e86a",
   "metadata": {},
   "source": [
    "#### 👩‍💻 Implementation"
   ]
  },
  {
   "cell_type": "markdown",
   "id": "04fa4e80-ad97-4987-97e9-8c8c6a90e073",
   "metadata": {},
   "source": [
    "The implementation itself is easy, the trick is when we want to perform certain operations like **reversing linked list** and **removing elements from middle** etc. So, let's see how."
   ]
  },
  {
   "cell_type": "markdown",
   "id": "aba1794a-8600-4d88-9922-ebf87fc0ec0c",
   "metadata": {},
   "source": [
    "Building <>"
   ]
  },
  {
   "cell_type": "code",
   "execution_count": null,
   "id": "a0c2cfa3-95d5-4de4-9fb4-b93f23037edf",
   "metadata": {},
   "outputs": [],
   "source": []
  }
 ],
 "metadata": {
  "kernelspec": {
   "display_name": "Python 3 (ipykernel)",
   "language": "python",
   "name": "python3"
  },
  "language_info": {
   "codemirror_mode": {
    "name": "ipython",
    "version": 3
   },
   "file_extension": ".py",
   "mimetype": "text/x-python",
   "name": "python",
   "nbconvert_exporter": "python",
   "pygments_lexer": "ipython3",
   "version": "3.9.7"
  }
 },
 "nbformat": 4,
 "nbformat_minor": 5
}
