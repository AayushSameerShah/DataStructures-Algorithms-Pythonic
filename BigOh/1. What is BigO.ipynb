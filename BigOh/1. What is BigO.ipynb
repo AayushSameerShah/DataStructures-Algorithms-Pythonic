{
 "cells": [
  {
   "cell_type": "markdown",
   "id": "e9070821-012b-4165-8361-ff6825292e17",
   "metadata": {},
   "source": [
    "# Big O\n",
    "*(intro)*"
   ]
  },
  {
   "cell_type": "markdown",
   "id": "641aeded-708b-45bb-9199-e46a182b7bd3",
   "metadata": {},
   "source": [
    "##### "
   ]
  },
  {
   "cell_type": "markdown",
   "id": "d6f1f49f-4cfb-4cab-bbe6-ad56f1615894",
   "metadata": {},
   "source": [
    "### Why?\n",
    "Let's not go baby steps...\n",
    "\n",
    "> Whenever there is the problem, there is (are) the solution(s)\n",
    "\n",
    "So, \"Write a program to add 5 numbers\" <br>\n",
    "Hah, a first year stuff. But there can be multiple ways to code it out right? \n",
    "\n",
    "5 people came with 5 solutions. Every solution, well solves the problem. So which one is better? And mainly **how do we define what is better**?\n",
    "\n"
   ]
  },
  {
   "cell_type": "markdown",
   "id": "812a009f-b9df-4180-9850-581818233900",
   "metadata": {},
   "source": [
    "### "
   ]
  },
  {
   "cell_type": "markdown",
   "id": "c6b3c89b-1797-415a-a24a-7e3f8a2e2494",
   "metadata": {},
   "source": [
    "### In jupyter...<br>—\n",
    "We have the **`%timeit`** magic command. Which will do the \"time checking\" for the algorithm for us."
   ]
  },
  {
   "cell_type": "markdown",
   "id": "7fa8e331-89e0-465d-8872-af8c7b9fcdb8",
   "metadata": {},
   "source": [
    "In general, we are tend to compare the algorithms in the base of **Time and Space** complexity. But they are the \"Objective\" means, they are dependent on the systems that you run on. So, if an algorithm runs in your pc takes 10 seconds, that might take 1 minute on mine!\n",
    "\n",
    "So, we need some kind of \"robust\" measure for the algorithm, and it is where the Big-O comes in."
   ]
  },
  {
   "cell_type": "markdown",
   "id": "1be83289-d942-4d2c-8906-e99df4d5abcd",
   "metadata": {},
   "source": [
    "### "
   ]
  },
  {
   "cell_type": "markdown",
   "id": "1b71b9d5-cd35-41de-bf08-ff66dce16adc",
   "metadata": {},
   "source": [
    "### Good points<br>—\n",
    "- When you are iterating over some set of values say 10, then you might be willing to go for `n+1` elements and the assignment will happen `n+1` times. (Don't ask why, because depending on the algorithm, you will often see the `n+1` many times)\n",
    "- When the n is 10000 then also that will be `n+1` but at the **longer run** say 1M times, the `+1` won't affet much so we will **not care** about including the `+1` in the Big-O.\n",
    "- Because Big-O is **not about** to find the ***exact*** time that the algorithm will take **but** it tells ***how quickly*** the time will grow as the number of elements grow. *(Let me put that amazing quote in a form of a quote)*\n",
    "- As n gets arbitrarily large we only worry about terms that will grow the fastest as n gets large, to this point, Big-O analysis is also known as **asymptotic analysis**.\n",
    "\n",
    "> Big-O is **not about** to find the ***exact*** time that the algorithm will take **but** it tells ***how quickly*** the time will grow as the number of ***n*** elements grow. *(Let me put that amazing quote in a form of a quote)*"
   ]
  },
  {
   "cell_type": "markdown",
   "id": "a00de4b7-33be-4cba-a059-ddda98a9b324",
   "metadata": {},
   "source": [
    "There is much clear explanation by the instructor [here](https://nbviewer.org/github/jmportilla/Python-for-Algorithms--Data-Structures--and-Interviews/blob/master/01-Algorithm%20Analysis%20and%20Big%20O/02-Big%20O%20Notation.ipynb)."
   ]
  },
  {
   "cell_type": "markdown",
   "id": "6e68da51-b2ea-4579-86d5-859fe8bb4cd9",
   "metadata": {},
   "source": [
    "### "
   ]
  },
  {
   "cell_type": "markdown",
   "id": "631ab3ac-fdc0-4c3c-893b-f3dc5048181e",
   "metadata": {},
   "source": [
    "### Big-O names<br>—\n",
    "\n",
    "|Notation|Name|\n",
    "|--------|----|\n",
    "|1       |Constant|\n",
    "|n       | Linear|\n",
    "|n!       | Factorial|\n",
    "|log(n)  | Logarithmic|\n",
    "|nlog(n) | Log Linear|\n",
    "|$n^2$   | Quaderic|\n",
    "|$n^3$   | Cubic|\n",
    "|$2^n$   | Exponential|"
   ]
  },
  {
   "cell_type": "markdown",
   "id": "4f795002-7756-4290-94f7-47d893acd5c6",
   "metadata": {},
   "source": [
    "### "
   ]
  },
  {
   "cell_type": "markdown",
   "id": "b7fe7820-873f-43a6-9575-181be37a35f3",
   "metadata": {},
   "source": [
    "### Knowing the Big-O<br>—\n",
    "\n",
    "- Big O notation is named after the term **\"order of the function\"**\n",
    "- Used to find the **upper bound** (the highest possible amount) of the function's growth rate, meaning it works out the longest time it will take to turn the input into the output.\n",
    "- This means an algorithm can be grouped by how long it can take in a worst-case scenario *(remember the class?)* where the longest route will be taken every time."
   ]
  },
  {
   "cell_type": "markdown",
   "id": "1015ca33-a06f-4c11-bca7-f552db643666",
   "metadata": {},
   "source": [
    "# "
   ]
  },
  {
   "cell_type": "markdown",
   "id": "32002768-881c-47d6-9c48-d8c971398b04",
   "metadata": {},
   "source": [
    "# I think...\n",
    "That is it for this book, as we would need to keep **something** for another books! So will see you there!"
   ]
  }
 ],
 "metadata": {
  "kernelspec": {
   "display_name": "Python 3 (ipykernel)",
   "language": "python",
   "name": "python3"
  },
  "language_info": {
   "codemirror_mode": {
    "name": "ipython",
    "version": 3
   },
   "file_extension": ".py",
   "mimetype": "text/x-python",
   "name": "python",
   "nbconvert_exporter": "python",
   "pygments_lexer": "ipython3",
   "version": "3.9.7"
  }
 },
 "nbformat": 4,
 "nbformat_minor": 5
}
